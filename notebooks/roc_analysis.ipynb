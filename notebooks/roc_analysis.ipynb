{
  "cells": [
    {
      "cell_type": "markdown",
      "id": "9e5e0b26",
      "metadata": {
        "id": "9e5e0b26"
      },
      "source": [
        "# Descrição\n",
        "\n",
        "TBD"
      ]
    },
    {
      "cell_type": "markdown",
      "source": [
        "## Setup do Ambiente"
      ],
      "metadata": {
        "id": "O4TLvrko6umI"
      },
      "id": "O4TLvrko6umI"
    },
    {
      "cell_type": "code",
      "source": [
        "install.packages(\"rlang\")\n",
        "install.packages('pROC')\n",
        "install.packages('openxlsx')"
      ],
      "metadata": {
        "id": "gcEJBfwCrspn",
        "colab": {
          "base_uri": "https://localhost:8080/"
        },
        "outputId": "67def5a3-ce95-4865-ca6b-1d5e6371cf10"
      },
      "id": "gcEJBfwCrspn",
      "execution_count": null,
      "outputs": [
        {
          "output_type": "stream",
          "name": "stderr",
          "text": [
            "Installing package into ‘/usr/local/lib/R/site-library’\n",
            "(as ‘lib’ is unspecified)\n",
            "\n",
            "Installing package into ‘/usr/local/lib/R/site-library’\n",
            "(as ‘lib’ is unspecified)\n",
            "\n",
            "also installing the dependencies ‘plyr’, ‘Rcpp’\n",
            "\n",
            "\n",
            "Installing package into ‘/usr/local/lib/R/site-library’\n",
            "(as ‘lib’ is unspecified)\n",
            "\n"
          ]
        }
      ]
    },
    {
      "cell_type": "code",
      "source": [
        "library(rlang)\n",
        "library(pROC)\n",
        "library(openxlsx)"
      ],
      "metadata": {
        "id": "PXlebaL-sA8T",
        "colab": {
          "base_uri": "https://localhost:8080/"
        },
        "outputId": "72f624e6-170a-4ef2-d42f-42a34ea5f8bf"
      },
      "id": "PXlebaL-sA8T",
      "execution_count": null,
      "outputs": [
        {
          "output_type": "stream",
          "name": "stderr",
          "text": [
            "Type 'citation(\"pROC\")' for a citation.\n",
            "\n",
            "\n",
            "Attaching package: ‘pROC’\n",
            "\n",
            "\n",
            "The following objects are masked from ‘package:stats’:\n",
            "\n",
            "    cov, smooth, var\n",
            "\n",
            "\n"
          ]
        }
      ]
    },
    {
      "cell_type": "code",
      "source": [],
      "metadata": {
        "id": "UJDpWax4vDGu"
      },
      "id": "UJDpWax4vDGu",
      "execution_count": null,
      "outputs": []
    },
    {
      "cell_type": "code",
      "source": [
        "# # install.packages('epiR')\n",
        "# # library(epiR)\n",
        "# library(devtools)\n",
        "# install_github('cran/epiR')"
      ],
      "metadata": {
        "id": "rLz0kXVth8Jq"
      },
      "id": "rLz0kXVth8Jq",
      "execution_count": null,
      "outputs": []
    },
    {
      "cell_type": "markdown",
      "source": [
        "## Leitura dos dados"
      ],
      "metadata": {
        "id": "fUcVx5UfZ5Tq"
      },
      "id": "fUcVx5UfZ5Tq"
    },
    {
      "cell_type": "code",
      "execution_count": null,
      "metadata": {
        "id": "CFxoRxIpWHMv"
      },
      "outputs": [],
      "source": [
        "# Leitura do dataset e carregamento no dataframe dados\n",
        "\n",
        "dados <- read.csv(file.path(\"https://raw.githubusercontent.com/pedrogemal/stats/main/roc_data_20231030.csv\"), dec = ',')\n",
        "options(warn=-1)"
      ],
      "id": "CFxoRxIpWHMv"
    },
    {
      "cell_type": "code",
      "source": [
        "# Primeiras linhas do dataset\n",
        "\n",
        "data(dados)\n",
        "head(dados)"
      ],
      "metadata": {
        "id": "2h8n9LEu5xMB",
        "colab": {
          "base_uri": "https://localhost:8080/",
          "height": 286
        },
        "outputId": "281bac2b-87bc-423b-cc24-0769cb73fd35"
      },
      "execution_count": null,
      "outputs": [
        {
          "output_type": "display_data",
          "data": {
            "text/html": [
              "<table class=\"dataframe\">\n",
              "<caption>A data.frame: 6 × 13</caption>\n",
              "<thead>\n",
              "\t<tr><th></th><th scope=col>adhere_score</th><th scope=col>gwtg_score</th><th scope=col>y_allvar</th><th scope=col>y_allvar_prob</th><th scope=col>y_b7</th><th scope=col>y_b7_prob</th><th scope=col>y_b3</th><th scope=col>y_b3_prob</th><th scope=col>y_gwtg</th><th scope=col>y_gwtg_prob</th><th scope=col>y_adhere</th><th scope=col>y_adhere_prob</th><th scope=col>hospital_death</th></tr>\n",
              "\t<tr><th></th><th scope=col>&lt;int&gt;</th><th scope=col>&lt;int&gt;</th><th scope=col>&lt;int&gt;</th><th scope=col>&lt;dbl&gt;</th><th scope=col>&lt;int&gt;</th><th scope=col>&lt;dbl&gt;</th><th scope=col>&lt;int&gt;</th><th scope=col>&lt;dbl&gt;</th><th scope=col>&lt;int&gt;</th><th scope=col>&lt;dbl&gt;</th><th scope=col>&lt;int&gt;</th><th scope=col>&lt;dbl&gt;</th><th scope=col>&lt;int&gt;</th></tr>\n",
              "</thead>\n",
              "<tbody>\n",
              "\t<tr><th scope=row>1</th><td>1</td><td>29</td><td>0</td><td>0.0003742688</td><td>0</td><td>0.002892708</td><td>0</td><td>0.011513119</td><td>0</td><td>0.038198940</td><td>0</td><td>0.005230816</td><td>0</td></tr>\n",
              "\t<tr><th scope=row>2</th><td>1</td><td>38</td><td>0</td><td>0.0026091458</td><td>0</td><td>0.034161590</td><td>0</td><td>0.006175851</td><td>0</td><td>0.013734064</td><td>0</td><td>0.010109146</td><td>0</td></tr>\n",
              "\t<tr><th scope=row>3</th><td>1</td><td>53</td><td>0</td><td>0.0051370440</td><td>0</td><td>0.044726260</td><td>0</td><td>0.480761650</td><td>0</td><td>0.198601590</td><td>0</td><td>0.026454272</td><td>0</td></tr>\n",
              "\t<tr><th scope=row>4</th><td>1</td><td>37</td><td>0</td><td>0.0003367580</td><td>0</td><td>0.064411655</td><td>0</td><td>0.059750453</td><td>0</td><td>0.002090020</td><td>0</td><td>0.018926335</td><td>0</td></tr>\n",
              "\t<tr><th scope=row>5</th><td>3</td><td>39</td><td>0</td><td>0.0022193950</td><td>0</td><td>0.031626023</td><td>0</td><td>0.001439565</td><td>0</td><td>0.008104341</td><td>0</td><td>0.077337090</td><td>0</td></tr>\n",
              "\t<tr><th scope=row>6</th><td>2</td><td>48</td><td>0</td><td>0.0006290409</td><td>0</td><td>0.031063713</td><td>0</td><td>0.010376619</td><td>0</td><td>0.032494243</td><td>0</td><td>0.070989550</td><td>0</td></tr>\n",
              "</tbody>\n",
              "</table>\n"
            ],
            "text/markdown": "\nA data.frame: 6 × 13\n\n| <!--/--> | adhere_score &lt;int&gt; | gwtg_score &lt;int&gt; | y_allvar &lt;int&gt; | y_allvar_prob &lt;dbl&gt; | y_b7 &lt;int&gt; | y_b7_prob &lt;dbl&gt; | y_b3 &lt;int&gt; | y_b3_prob &lt;dbl&gt; | y_gwtg &lt;int&gt; | y_gwtg_prob &lt;dbl&gt; | y_adhere &lt;int&gt; | y_adhere_prob &lt;dbl&gt; | hospital_death &lt;int&gt; |\n|---|---|---|---|---|---|---|---|---|---|---|---|---|---|\n| 1 | 1 | 29 | 0 | 0.0003742688 | 0 | 0.002892708 | 0 | 0.011513119 | 0 | 0.038198940 | 0 | 0.005230816 | 0 |\n| 2 | 1 | 38 | 0 | 0.0026091458 | 0 | 0.034161590 | 0 | 0.006175851 | 0 | 0.013734064 | 0 | 0.010109146 | 0 |\n| 3 | 1 | 53 | 0 | 0.0051370440 | 0 | 0.044726260 | 0 | 0.480761650 | 0 | 0.198601590 | 0 | 0.026454272 | 0 |\n| 4 | 1 | 37 | 0 | 0.0003367580 | 0 | 0.064411655 | 0 | 0.059750453 | 0 | 0.002090020 | 0 | 0.018926335 | 0 |\n| 5 | 3 | 39 | 0 | 0.0022193950 | 0 | 0.031626023 | 0 | 0.001439565 | 0 | 0.008104341 | 0 | 0.077337090 | 0 |\n| 6 | 2 | 48 | 0 | 0.0006290409 | 0 | 0.031063713 | 0 | 0.010376619 | 0 | 0.032494243 | 0 | 0.070989550 | 0 |\n\n",
            "text/latex": "A data.frame: 6 × 13\n\\begin{tabular}{r|lllllllllllll}\n  & adhere\\_score & gwtg\\_score & y\\_allvar & y\\_allvar\\_prob & y\\_b7 & y\\_b7\\_prob & y\\_b3 & y\\_b3\\_prob & y\\_gwtg & y\\_gwtg\\_prob & y\\_adhere & y\\_adhere\\_prob & hospital\\_death\\\\\n  & <int> & <int> & <int> & <dbl> & <int> & <dbl> & <int> & <dbl> & <int> & <dbl> & <int> & <dbl> & <int>\\\\\n\\hline\n\t1 & 1 & 29 & 0 & 0.0003742688 & 0 & 0.002892708 & 0 & 0.011513119 & 0 & 0.038198940 & 0 & 0.005230816 & 0\\\\\n\t2 & 1 & 38 & 0 & 0.0026091458 & 0 & 0.034161590 & 0 & 0.006175851 & 0 & 0.013734064 & 0 & 0.010109146 & 0\\\\\n\t3 & 1 & 53 & 0 & 0.0051370440 & 0 & 0.044726260 & 0 & 0.480761650 & 0 & 0.198601590 & 0 & 0.026454272 & 0\\\\\n\t4 & 1 & 37 & 0 & 0.0003367580 & 0 & 0.064411655 & 0 & 0.059750453 & 0 & 0.002090020 & 0 & 0.018926335 & 0\\\\\n\t5 & 3 & 39 & 0 & 0.0022193950 & 0 & 0.031626023 & 0 & 0.001439565 & 0 & 0.008104341 & 0 & 0.077337090 & 0\\\\\n\t6 & 2 & 48 & 0 & 0.0006290409 & 0 & 0.031063713 & 0 & 0.010376619 & 0 & 0.032494243 & 0 & 0.070989550 & 0\\\\\n\\end{tabular}\n",
            "text/plain": [
              "  adhere_score gwtg_score y_allvar y_allvar_prob y_b7 y_b7_prob   y_b3\n",
              "1 1            29         0        0.0003742688  0    0.002892708 0   \n",
              "2 1            38         0        0.0026091458  0    0.034161590 0   \n",
              "3 1            53         0        0.0051370440  0    0.044726260 0   \n",
              "4 1            37         0        0.0003367580  0    0.064411655 0   \n",
              "5 3            39         0        0.0022193950  0    0.031626023 0   \n",
              "6 2            48         0        0.0006290409  0    0.031063713 0   \n",
              "  y_b3_prob   y_gwtg y_gwtg_prob y_adhere y_adhere_prob hospital_death\n",
              "1 0.011513119 0      0.038198940 0        0.005230816   0             \n",
              "2 0.006175851 0      0.013734064 0        0.010109146   0             \n",
              "3 0.480761650 0      0.198601590 0        0.026454272   0             \n",
              "4 0.059750453 0      0.002090020 0        0.018926335   0             \n",
              "5 0.001439565 0      0.008104341 0        0.077337090   0             \n",
              "6 0.010376619 0      0.032494243 0        0.070989550   0             "
            ]
          },
          "metadata": {}
        }
      ],
      "id": "2h8n9LEu5xMB"
    },
    {
      "cell_type": "code",
      "source": [
        "str(dados)\n",
        "attach(dados)"
      ],
      "metadata": {
        "id": "W2Nr9q5MYznn",
        "colab": {
          "base_uri": "https://localhost:8080/"
        },
        "outputId": "5d8351b7-4a0f-4d49-e45b-d268727e72af"
      },
      "id": "W2Nr9q5MYznn",
      "execution_count": null,
      "outputs": [
        {
          "output_type": "stream",
          "name": "stdout",
          "text": [
            "'data.frame':\t1121 obs. of  13 variables:\n",
            " $ adhere_score  : int  1 1 1 1 3 2 4 2 2 3 ...\n",
            " $ gwtg_score    : int  29 38 53 37 39 48 46 43 46 38 ...\n",
            " $ y_allvar      : int  0 0 0 0 0 0 0 0 0 0 ...\n",
            " $ y_allvar_prob : num  0.000374 0.002609 0.005137 0.000337 0.002219 ...\n",
            " $ y_b7          : int  0 0 0 0 0 0 0 0 0 0 ...\n",
            " $ y_b7_prob     : num  0.00289 0.03416 0.04473 0.06441 0.03163 ...\n",
            " $ y_b3          : int  0 0 0 0 0 0 0 0 0 0 ...\n",
            " $ y_b3_prob     : num  0.01151 0.00618 0.48076 0.05975 0.00144 ...\n",
            " $ y_gwtg        : int  0 0 0 0 0 0 0 0 0 0 ...\n",
            " $ y_gwtg_prob   : num  0.0382 0.01373 0.1986 0.00209 0.0081 ...\n",
            " $ y_adhere      : int  0 0 0 0 0 0 0 0 0 0 ...\n",
            " $ y_adhere_prob : num  0.00523 0.01011 0.02645 0.01893 0.07734 ...\n",
            " $ hospital_death: int  0 0 0 0 0 0 0 0 0 0 ...\n"
          ]
        }
      ]
    },
    {
      "cell_type": "markdown",
      "source": [
        "## Resultados da área sob a Curva ROC"
      ],
      "metadata": {
        "id": "mTPx1wUmZ-11"
      },
      "id": "mTPx1wUmZ-11"
    },
    {
      "cell_type": "code",
      "source": [
        "# Construção das curvas baseada nas colunas do arquivo roc_data\n",
        "\n",
        "roc1=roc(hospital_death~ adhere_score, data = dados,ci=T,percent=T)\n",
        "roc2=roc(hospital_death~ gwtg_score, data = dados,ci=T,percent=T)\n",
        "roc3=roc(hospital_death~ y_b7_prob, data = dados,ci=T,percent=T)\n",
        "roc4=roc(hospital_death~ y_b3_prob, data = dados,ci=T,percent=T)\n",
        "roc5=roc(hospital_death~ y_adhere_prob, data = dados,ci=T,percent=T)\n",
        "roc6=roc(hospital_death~ y_gwtg_prob, data = dados,ci=T,percent=T)\n",
        "roc7=roc(hospital_death~ y_allvar_prob, data = dados,ci=T,percent=T)"
      ],
      "metadata": {
        "id": "pfL1sr8wY41H",
        "colab": {
          "base_uri": "https://localhost:8080/"
        },
        "outputId": "a696721e-2e7c-4990-b923-80f82cf00852"
      },
      "id": "pfL1sr8wY41H",
      "execution_count": null,
      "outputs": [
        {
          "output_type": "stream",
          "name": "stderr",
          "text": [
            "Setting levels: control = 0, case = 1\n",
            "\n",
            "Setting direction: controls < cases\n",
            "\n",
            "Setting levels: control = 0, case = 1\n",
            "\n",
            "Setting direction: controls < cases\n",
            "\n",
            "Setting levels: control = 0, case = 1\n",
            "\n",
            "Setting direction: controls < cases\n",
            "\n",
            "Setting levels: control = 0, case = 1\n",
            "\n",
            "Setting direction: controls < cases\n",
            "\n",
            "Setting levels: control = 0, case = 1\n",
            "\n",
            "Setting direction: controls < cases\n",
            "\n",
            "Setting levels: control = 0, case = 1\n",
            "\n",
            "Setting direction: controls < cases\n",
            "\n",
            "Setting levels: control = 0, case = 1\n",
            "\n",
            "Setting direction: controls < cases\n",
            "\n"
          ]
        }
      ]
    },
    {
      "cell_type": "code",
      "source": [
        "# Exportação da imagem em formato tif, com configurações de tamanho e resolução\n",
        "\n",
        "#tiff(file=paste(\"cROC.tif\",sep=\"\"), width = 6, height = 6, units = 'in', res = 300, compression = 'lzw')"
      ],
      "metadata": {
        "id": "lBsvUAJsY5ZD"
      },
      "id": "lBsvUAJsY5ZD",
      "execution_count": null,
      "outputs": []
    },
    {
      "cell_type": "code",
      "source": [
        "# Plotagem do gráfico em que cada linha do código corresponde a uma curva do gráfico\n",
        "\n",
        "proc1 <- plot(roc1, print.auc = T, col = \"darkgoldenrod1\",print.auc.y = 65, print.auc.x=30, print.auc.cex=0.8)\n",
        "proc2 <- plot(roc2, print.auc = T, col = \"darkgreen\", print.auc.y = 60, print.auc.x=30, print.auc.cex=0.8, add = TRUE)\n",
        "# proc3 <- plot(roc3, print.auc = T, col = \"darkorchid\",print.auc.y = 55, print.auc.x=30, print.auc.cex=0.8, add = TRUE)\n",
        "# proc4 <- plot(roc4, print.auc = T, col = \"black\", print.auc.y = 50, print.auc.x=30, print.auc.cex=0.8, add = TRUE)\n",
        "# proc5 <- plot(roc5, print.auc = T, col = \"blue1\", print.auc.y = 45, print.auc.x=30, print.auc.cex=0.8, add = TRUE)\n",
        "# proc6 <- plot(roc6, print.auc = T, col = \"firebrick\", print.auc.y = 40, print.auc.x=30, print.auc.cex=0.8, add = TRUE)\n",
        "proc7 <- plot(roc7, print.auc = T, col = \"darkturquoise\", print.auc.y = 55, print.auc.x=30, print.auc.cex=0.8, add = TRUE)\n",
        "legend(\"bottomright\", ncol=1,legend=c(\"Adhere score\",\"GWTG score\",\n",
        "# \"XGB model with best 7 variables\",\n",
        "# \"XGB model with best 3 variables\",\"XGB model with Adhere's variables\",\n",
        "# \"XGB model with GWTG's variables\",\n",
        "\"XGB model\"),lty=1,\n",
        "col=c(\"darkgoldenrod1\",\"darkgreen\",\n",
        "# \"darkorchid\",\"black\",\"blue1\",\"firebrick\",\n",
        "\"darkturquoise\"),bty=\"n\",lwd=2)"
      ],
      "metadata": {
        "id": "5F7o3TglY82z",
        "colab": {
          "base_uri": "https://localhost:8080/",
          "height": 437
        },
        "outputId": "e20c8219-d9d0-4369-e7ff-7cd94b433e52"
      },
      "id": "5F7o3TglY82z",
      "execution_count": null,
      "outputs": [
        {
          "output_type": "display_data",
          "data": {
            "text/plain": [
              "plot without title"
            ],
            "image/png": "[encoded data removed]"
          },
          "metadata": {
            "image/png": {
              "width": 420,
              "height": 420
            }
          }
        }
      ]
    },
    {
      "cell_type": "code",
      "source": [
        "# dev.off()"
      ],
      "metadata": {
        "id": "Oa0Qo61YZSaJ"
      },
      "id": "Oa0Qo61YZSaJ",
      "execution_count": null,
      "outputs": []
    },
    {
      "cell_type": "code",
      "source": [
        "result1=coords(roc1, \"all\",ret=c(\"threshold\", \"specificity\", \"sensitivity\", \"accuracy\",\"npv\", \"ppv\"))\n",
        "result1=as.data.frame(result1)\n",
        "\n",
        "result2=coords(roc2, \"all\",ret=c(\"threshold\", \"specificity\", \"sensitivity\", \"accuracy\",\"npv\", \"ppv\"))\n",
        "result2=as.data.frame(result2)\n",
        "\n",
        "result3=coords(roc3, \"all\",ret=c(\"threshold\", \"specificity\", \"sensitivity\", \"accuracy\",\"npv\", \"ppv\"))\n",
        "result3=as.data.frame(result3)\n",
        "\n",
        "result4=coords(roc4, \"all\",ret=c(\"threshold\", \"specificity\", \"sensitivity\", \"accuracy\",\"npv\", \"ppv\"))\n",
        "result4=as.data.frame(result4)\n",
        "\n",
        "result5=coords(roc5, \"all\",ret=c(\"threshold\", \"specificity\", \"sensitivity\", \"accuracy\",\"npv\", \"ppv\"))\n",
        "result5=as.data.frame(result5)\n",
        "\n",
        "result6=coords(roc6, \"all\",ret=c(\"threshold\", \"specificity\", \"sensitivity\", \"accuracy\",\"npv\", \"ppv\"))\n",
        "result6=as.data.frame(result6)\n",
        "\n",
        "result7=coords(roc7, \"all\",ret=c(\"threshold\", \"specificity\", \"sensitivity\", \"accuracy\",\"npv\", \"ppv\"))\n",
        "result7=as.data.frame(result7)"
      ],
      "metadata": {
        "id": "XSoowCeTZS8A"
      },
      "id": "XSoowCeTZS8A",
      "execution_count": null,
      "outputs": []
    },
    {
      "cell_type": "code",
      "source": [
        "# Table outputs rates\n",
        "# openxlsx::write.xlsx(list(adhere_score= result1,\n",
        "# gwtg_score= result2,\n",
        "# y_b7_prob= result3,\n",
        "# y_b3_prob= result4,\n",
        "# y_adhere_prob= result5,\n",
        "# y_gwtg_prob= result6,\n",
        "# y_allvar_prob= result7),row.names=T,overwrite=T, \"AUC_RESULTS.xlsx\")"
      ],
      "metadata": {
        "id": "Tw27Ysi_ZU7g"
      },
      "id": "Tw27Ysi_ZU7g",
      "execution_count": null,
      "outputs": []
    },
    {
      "cell_type": "code",
      "source": [
        "openxlsx::write.xlsx(list(adhere_score= result1,\n",
        "gwtg_score= result2,\n",
        "y_b7_prob= result3,\n",
        "y_b3_prob= result4,\n",
        "y_adhere_prob= result5,\n",
        "y_gwtg_prob= result6,\n",
        "y_allvar_prob= result7),row.names=T,overwrite=T, \"AUC_RESULTS.xlsx\")"
      ],
      "metadata": {
        "id": "0FtP-3RPsfee"
      },
      "id": "0FtP-3RPsfee",
      "execution_count": null,
      "outputs": []
    },
    {
      "cell_type": "markdown",
      "source": [
        "## Tentativas para classificar os escores Adhere e GWTG em 2 categorias"
      ],
      "metadata": {
        "id": "HswdGwwvDMOP"
      },
      "id": "HswdGwwvDMOP"
    },
    {
      "cell_type": "code",
      "source": [
        "# #binary test: adhere\n",
        "\n",
        "# dados$adhere1 = dados$adhere_score\n",
        "# dados$adhere1[dados$adhere1==1] <- 1\n",
        "# dados$adhere1[dados$adhere1==2] <- 0\n",
        "# dados$adhere1[dados$adhere1==3] <- 0\n",
        "# dados$adhere1[dados$adhere1==4] <- 0\n",
        "# dados$adhere1[dados$adhere1==5] <- 0\n",
        "\n",
        "# tab11=table(dados$adhere1,dados$hospital_death)\n",
        "# dat11 <- c(tab11[2,2],tab11[2,1],tab11[1,2],tab11[1,1])\n",
        "# test11<- epiR::epi.tests(dat11 , method = \"exact\", digits = 2, conf.level = 0.95)\n",
        "# print(test11)\n",
        "# clipr::write_clip(test11$tab)"
      ],
      "metadata": {
        "id": "rmg4X_dBZZRx"
      },
      "id": "rmg4X_dBZZRx",
      "execution_count": null,
      "outputs": []
    },
    {
      "cell_type": "code",
      "source": [
        "# dados$adhere2 = dados$adhere_score\n",
        "# dados$adhere2 [dados$adhere2 ==1] <- 1\n",
        "# dados$adhere2 [dados$adhere2 ==2] <- 1\n",
        "# dados$adhere2 [dados$adhere2 ==3] <- 0\n",
        "# dados$adhere2 [dados$adhere2 ==4] <- 0\n",
        "# dados$adhere2 [dados$adhere2 ==5] <- 0\n",
        "\n",
        "# tab12=table(dados$adhere2,dados$hospital_death)\n",
        "# dat12 <- c(tab12[2,2],tab12[2,1],tab12[1,2],tab12[1,1])\n",
        "# test12<- epiR::epi.tests(dat12 , method = \"exact\", digits = 2, conf.level = 0.95)\n",
        "# print(test12)\n",
        "# clipr::write_clip(test12$tab)"
      ],
      "metadata": {
        "id": "HAKYOZ0DZctC"
      },
      "id": "HAKYOZ0DZctC",
      "execution_count": null,
      "outputs": []
    },
    {
      "cell_type": "code",
      "source": [
        "# dados$adhere3 = dados$adhere_score\n",
        "# dados$adhere3 [dados$adhere3 ==1] <- 1\n",
        "# dados$adhere3 [dados$adhere3 ==2] <- 1\n",
        "# dados$adhere3 [dados$adhere3 ==3] <- 1\n",
        "# dados$adhere3 [dados$adhere3 ==4] <- 0\n",
        "# dados$adhere3 [dados$adhere3 ==5] <- 0\n",
        "\n",
        "# tab13=table(dados$adhere3 ,dados$hospital_death)\n",
        "# dat13 <- c(tab13[2,2],tab13[2,1],tab13[1,2],tab13[1,1])\n",
        "# test13<- epiR::epi.tests(dat13 , method = \"exact\", digits = 2, conf.level = 0.95)\n",
        "# print(test13)\n",
        "# clipr::write_clip(test13$tab)"
      ],
      "metadata": {
        "id": "uNydIkJgZeCd"
      },
      "id": "uNydIkJgZeCd",
      "execution_count": null,
      "outputs": []
    },
    {
      "cell_type": "code",
      "source": [
        "# dados$adhere4 = dados$adhere_score\n",
        "# dados$adhere4 [dados$adhere4 ==1] <- 1\n",
        "# dados$adhere4 [dados$adhere4 ==2] <- 1\n",
        "# dados$adhere4 [dados$adhere4 ==3] <- 1\n",
        "# dados$adhere4 [dados$adhere4 ==4] <- 1\n",
        "# dados$adhere4 [dados$adhere4 ==5] <- 0\n",
        "\n",
        "# tab14=table(dados$adhere4 ,dados$hospital_death)\n",
        "# dat14 <- c(tab14[2,2],tab14[2,1],tab14[1,2],tab14[1,1])\n",
        "# test14 <- epiR::epi.tests(dat14 , method = \"exact\", digits = 2, conf.level = 0.95)\n",
        "# print(test14)\n",
        "# clipr::write_clip(test14$tab)"
      ],
      "metadata": {
        "id": "qXOYlFi0Zt-w"
      },
      "id": "qXOYlFi0Zt-w",
      "execution_count": null,
      "outputs": []
    },
    {
      "cell_type": "code",
      "source": [
        "# #binary test: GWTG\n",
        "\n",
        "# coords(roc2,\"best\",best.method=\"youden\")\n",
        "# coords(roc2,\"best\",best.method=\"closest.topleft\")\n",
        "\n",
        "# dados$gwtg49 = dados$gwtg_score\n",
        "# dados$gwtg49[dados$gwtg49 < 49.5] <- 0\n",
        "# dados$gwtg49[dados$gwtg49 > 49.5] <- 1\n",
        "\n",
        "# tab21=table(dados$gwtg49,dados$hospital_death)\n",
        "# dat21 <- c(tab21[2,2],tab21[2,1],tab21[1,2],tab21[1,1])\n",
        "# test21 <- epiR::epi.tests(dat21, method = \"exact\", digits = 2, conf.level = 0.95)\n",
        "# print(test21)\n",
        "# clipr::write_clip(test21$tab)"
      ],
      "metadata": {
        "id": "XRJ0jUVAZhcs"
      },
      "id": "XRJ0jUVAZhcs",
      "execution_count": null,
      "outputs": []
    },
    {
      "cell_type": "code",
      "source": [
        "# dados$gwtg47 = dados$gwtg_score\n",
        "# dados$gwtg47 [dados$gwtg47 < 47.5] <- 0\n",
        "# dados$gwtg47 [dados$gwtg47 > 47.5] <- 1\n",
        "\n",
        "# tab22=table(dados$gwtg47,dados$hospital_death)\n",
        "# dat22 <- c(tab22[2,2],tab22[2,1],tab22[1,2],tab22[1,1])\n",
        "# test22 <- epiR::epi.tests(dat22, method = \"exact\", digits = 2, conf.level = 0.95)\n",
        "# print(test22)\n",
        "# clipr::write_clip(test22$tab)"
      ],
      "metadata": {
        "id": "0XcIH4ZwZrCe"
      },
      "id": "0XcIH4ZwZrCe",
      "execution_count": null,
      "outputs": []
    },
    {
      "cell_type": "code",
      "source": [
        "# tab3=table(dados$y_b7,dados$hospital_death)\n",
        "# dat3 <- c(tab3[2,2],tab3[2,1],tab3[1,2],tab3[1,1])\n",
        "# test3 <- epiR::epi.tests(dat3, method = \"exact\", digits = 2, conf.level = 0.95)\n",
        "# print(test3)"
      ],
      "metadata": {
        "id": "Vk6lwJ8CZjJY"
      },
      "id": "Vk6lwJ8CZjJY",
      "execution_count": null,
      "outputs": []
    },
    {
      "cell_type": "code",
      "source": [
        "# tab4=table(dados$y_b3,dados$hospital_death)\n",
        "# dat4 <- c(tab4[2,2],tab4[2,1],tab4[1,2],tab4[1,1])\n",
        "# test4 <- epiR::epi.tests(dat4, method = \"exact\", digits = 2, conf.level = 0.95)\n",
        "# print(test4)"
      ],
      "metadata": {
        "id": "qY1KC9iyZksO"
      },
      "id": "qY1KC9iyZksO",
      "execution_count": null,
      "outputs": []
    },
    {
      "cell_type": "code",
      "source": [
        "# tab5=table(dados$y_adhere,dados$hospital_death)\n",
        "# dat5 <- c(tab5[2,2],tab5[2,1],tab5[1,2],tab5[1,1])\n",
        "# test5 <- epiR::epi.tests(dat5, method = \"exact\", digits = 2, conf.level = 0.95)\n",
        "# print(test5)"
      ],
      "metadata": {
        "id": "0PePvTuRZlq-"
      },
      "id": "0PePvTuRZlq-",
      "execution_count": null,
      "outputs": []
    },
    {
      "cell_type": "code",
      "source": [
        "# tab6=table(dados$y_gwtg,dados$hospital_death)\n",
        "# dat6 <- c(tab6[2,2],tab6[2,1],tab6[1,2],tab6[1,1])\n",
        "# test6 <- epiR::epi.tests(dat6, method = \"exact\", digits = 2, conf.level = 0.95)\n",
        "# print(test6)"
      ],
      "metadata": {
        "id": "metXo5GaZnVx"
      },
      "id": "metXo5GaZnVx",
      "execution_count": null,
      "outputs": []
    },
    {
      "cell_type": "code",
      "source": [
        "# tab7=table(dados$y_allvar,dados$hospital_death)\n",
        "# dat7 <- c(tab7[2,2],tab7[2,1],tab7[1,2],tab7[1,1])\n",
        "# test7 <- epiR::epi.tests(dat7, method = \"exact\", digits = 2, conf.level = 0.95)\n",
        "# print(test7)"
      ],
      "metadata": {
        "id": "qbURatARZoP8"
      },
      "id": "qbURatARZoP8",
      "execution_count": null,
      "outputs": []
    },
    {
      "cell_type": "code",
      "source": [
        "# roc1\n",
        "# roc2\n",
        "# roc3\n",
        "# roc4\n",
        "# roc5\n",
        "# roc6\n",
        "# roc7"
      ],
      "metadata": {
        "id": "n7iYA4w0ZpNC"
      },
      "id": "n7iYA4w0ZpNC",
      "execution_count": null,
      "outputs": []
    }
  ],
  "metadata": {
    "kernelspec": {
      "display_name": "R",
      "name": "ir"
    },
    "language_info": {
      "codemirror_mode": "r",
      "file_extension": ".r",
      "mimetype": "text/x-r-source",
      "name": "R",
      "pygments_lexer": "r",
      "version": "3.6.1"
    },
    "colab": {
      "provenance": []
    }
  },
  "nbformat": 4,
  "nbformat_minor": 5
}