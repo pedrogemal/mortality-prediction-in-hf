{
  "cells": [
    {
      "cell_type": "markdown",
      "metadata": {
        "id": "9kCBlXxbmDMz"
      },
      "source": [
        "## Enviroment setup"
      ]
    },
    {
      "cell_type": "code",
      "execution_count": 1,
      "metadata": {
        "id": "IprFzZ64-I5P"
      },
      "outputs": [],
      "source": [
        "# Libs and enviroment customizations\n",
        "\n",
        "# Data wrangling\n",
        "import pandas as pd\n",
        "import numpy as np\n",
        "\n",
        "# Data import\n",
        "from google.colab import files\n",
        "\n",
        "# Data visualization\n",
        "import matplotlib.pyplot as plt\n",
        "import seaborn as sns\n",
        "\n",
        "import warnings\n",
        "warnings.filterwarnings('ignore', category=DeprecationWarning)"
      ]
    },
    {
      "cell_type": "code",
      "execution_count": 2,
      "metadata": {
        "id": "pW2hHi1riiK6"
      },
      "outputs": [],
      "source": [
        "pd.set_option('display.max_rows', 100)"
      ]
    },
    {
      "cell_type": "code",
      "execution_count": 3,
      "metadata": {
        "id": "B0aFonq1fJcH"
      },
      "outputs": [],
      "source": [
        "# Getting reproducible results across multiple executions\n",
        "rng = np.random.RandomState(0)\n",
        "seed = 42"
      ]
    },
    {
      "cell_type": "markdown",
      "metadata": {
        "id": "LiTr4uZVmIVa"
      },
      "source": [
        "# Data query"
      ]
    },
    {
      "cell_type": "markdown",
      "metadata": {
        "id": "JtpcFt0c72Tg"
      },
      "source": [
        "This study's dataset is a subset of MIMIC-IV in which each row represents the latest (and therefore the unique) stay of a patient in the intensive care unit. A stay stands for the event of being in one hospital sector during a certain period of time.\n",
        "\n",
        "MIMIC (Medical Information Mart for Intensive Care) is a large, freely-available database comprising deidentified health-related data from patients who were admitted to the critical care units of the Beth Israel Deaconess Medical Center.\n",
        "\n",
        "MIMIC-IV contains data from 2008-2019. The admission vital signs, clinical measurements, and laboratory values were defined as either the first value recorded after or closest to the index CICU admission. Vital signs were recorded every 15 min during the first hour after ICU admission from Metavision bedside monitors. Admission diagnoses were defined as all International Classification of Diseases‐9 diagnostic codes.\n",
        "\n",
        "\n",
        "Ref: https://mimic.mit.edu/docs/iv/"
      ]
    },
    {
      "cell_type": "markdown",
      "metadata": {
        "id": "h8upSZBQ_3-z"
      },
      "source": [
        "### Database querys"
      ]
    },
    {
      "cell_type": "code",
      "execution_count": 4,
      "metadata": {
        "id": "df9nejzlAcKd"
      },
      "outputs": [],
      "source": [
        "## Intermediate table 1\n",
        "# DROP TABLE IF EXISTS mimiciv_derived.cohort_distinct_subject;\n",
        "# CREATE TABLE mimiciv_derived.cohort_distinct_subject AS\n",
        "# SELECT lab.subject_id,\n",
        "# icu.admission_age,\n",
        "# icu.gender,\n",
        "# icu.race,\n",
        "# h.height,\n",
        "# w.weight,\n",
        "# icu.los_icu,\n",
        "# lab.stay_id,\n",
        "# vs.sbp_mean,\n",
        "# lab.creatinine_max,\n",
        "# lab.bun_max,\n",
        "# CASE\n",
        "#     WHEN icu.dod IS NOT NULL THEN 1\n",
        "#     ELSE 0 END AS hospital_death,\n",
        "# DENSE_RANK() OVER (PARTITION BY icu.subject_id ORDER BY icu.stay_id ASC) AS icustay_seq\n",
        "# FROM mimiciv_derived.first_day_lab lab\n",
        "# LEFT JOIN mimiciv_derived.first_day_vitalsign vs\n",
        "# ON lab.stay_id = vs.stay_id\n",
        "# LEFT JOIN mimiciv_derived.icustay_detail icu\n",
        "# ON lab.stay_id = icu.stay_id\n",
        "# LEFT JOIN mimiciv_derived.first_day_height h\n",
        "# ON lab.stay_id = h.stay_id\n",
        "# LEFT JOIN mimiciv_derived.first_day_weight w\n",
        "# ON lab.stay_id = w.stay_id;\n",
        "\n",
        "## Intermediate table 2\n",
        "# DROP TABLE IF EXISTS mimiciv_derived.cohort_icds;\n",
        "# CREATE TABLE mimiciv_derived.cohort_icds AS\n",
        "# SELECT DISTINCT subject_id\n",
        "# FROM mimiciv_hosp.diagnoses_icd\n",
        "# WHERE icd_code in ('40201', '40211', '40291', '40401', '40403', '40411', '40413', '40491', '40493', '42801', '42802','42803','42804', '51881', '51882', '51884') AND icd_version=9;\n",
        "\n",
        "## Final table\n",
        "# DROP TABLE IF EXISTS mimiciv_derived.cohort_subjects_included;\n",
        "# CREATE TABLE mimiciv_derived.cohort_subjects_included AS\n",
        "# SELECT * from mimiciv_derived.cohort_distinct_subject where icustay_seq=1 and subject_id in (\n",
        "# SELECT distinct icd.subject_id\n",
        "# FROM mimiciv_derived.cohort_distinct_subject subject\n",
        "# LEFT JOIN mimiciv_derived.cohort_icds icd\n",
        "# ON subject.subject_id = icd.subject_id\n",
        "# );\n",
        "\n",
        "# Relevant counts:\n",
        "\n",
        "# Number of stays available to analyse:\n",
        "# Number of distinct patients:\n",
        "# Number of patients with cid-9 codes of interest:\n"
      ]
    },
    {
      "cell_type": "code",
      "execution_count": 5,
      "metadata": {
        "id": "mhoSEqZby9_c"
      },
      "outputs": [],
      "source": [
        "# # Including more data\n",
        "\n",
        "# DROP TABLE IF EXISTS mimiciv_derived.cohort_distinct_subject;\n",
        "# CREATE TABLE mimiciv_derived.cohort_distinct_subject AS\n",
        "# SELECT lab.subject_id,\n",
        "# lab.stay_id,\n",
        "# icu.admission_age,\n",
        "# h.height,\n",
        "# w.weight,\n",
        "# vs.sbp_mean,\n",
        "# vs.dbp_mean,\n",
        "# vs.mbp_mean,\n",
        "# vs.resp_rate_mean,\n",
        "# vs.temperature_mean,\n",
        "# vs.spo2_mean,\n",
        "# uo.urineoutput,\n",
        "# lab.hematocrit_max,\n",
        "# lab.hemoglobin_max,\n",
        "# lab.wbc_max,\n",
        "# lab.platelets_max,\n",
        "# lab.abs_neutrophils_max,\n",
        "# lab.abs_basophils_max,\n",
        "# lab.abs_lymphocytes_max,\n",
        "# lab.pt_max,\n",
        "# lab.inr_max,\n",
        "# lab.ptt_max,\n",
        "# lab.ck_cpk_max,\n",
        "# lab.creatinine_max,\n",
        "# lab.bun_max,\n",
        "# lab.glucose_max,\n",
        "# lab.potassium_max,\n",
        "# lab.sodium_max,\n",
        "# lab.calcium_max,\n",
        "# lab.chloride_max,\n",
        "# lab.aniongap_max,\n",
        "# bg.ph_min,\n",
        "# bg.bicarbonate_min,\n",
        "# bg.lactate_max,\n",
        "# bg.pco2_max,\n",
        "# icu.gender,\n",
        "# icu.race,\n",
        "# CASE\n",
        "#     WHEN icu.dod < icu.dischtime THEN 1\n",
        "#     ELSE 0 END AS hospital_death,\n",
        "# DENSE_RANK() OVER (PARTITION BY icu.subject_id ORDER BY icu.stay_id ASC) AS icustay_seq\n",
        "# FROM mimiciv_derived.first_day_lab lab\n",
        "# LEFT JOIN mimiciv_derived.first_day_vitalsign vs\n",
        "# ON lab.stay_id = vs.stay_id\n",
        "# LEFT JOIN mimiciv_derived.icustay_detail icu\n",
        "# ON lab.stay_id = icu.stay_id\n",
        "# LEFT JOIN mimiciv_derived.first_day_height h\n",
        "# ON lab.stay_id = h.stay_id\n",
        "# LEFT JOIN mimiciv_derived.first_day_weight w\n",
        "# ON lab.stay_id = w.stay_id\n",
        "# LEFT JOIN mimiciv_derived.first_day_urine_output uo\n",
        "# ON lab.stay_id = uo.stay_id\n",
        "# LEFT JOIN mimiciv_derived.first_day_bg_art bg\n",
        "# ON lab.stay_id = bg.stay_id;"
      ]
    },
    {
      "cell_type": "markdown",
      "metadata": {
        "id": "1oW0Exxq__En"
      },
      "source": [
        "### Database access"
      ]
    },
    {
      "cell_type": "code",
      "execution_count": 7,
      "metadata": {
        "colab": {
          "base_uri": "https://localhost:8080/"
        },
        "id": "Js1Jy3rPlO_V",
        "outputId": "485ef349-4ce3-464c-e76a-8440286279f1"
      },
      "outputs": [
        {
          "output_type": "stream",
          "name": "stdout",
          "text": [
            "Requirement already satisfied: python-dotenv in /usr/local/lib/python3.10/dist-packages (1.0.1)\n"
          ]
        }
      ],
      "source": [
        "# We are using a private repository with access token to enable multiple users to run this notebook. This will not be available in the final project.\n",
        "!pip install python-dotenv\n",
        "\n",
        "# Load .env file using:\n",
        "from dotenv import load_dotenv\n",
        "load_dotenv()\n",
        "\n",
        "import os\n",
        "import json, requests, urllib, io\n",
        "\n",
        "user=os.getenv(\"GIT_USER\")\n",
        "pao=os.getenv(\"GIT_PAO\")\n",
        "\n",
        "github_session = requests.Session()\n",
        "github_session.auth = (user, pao)\n",
        "\n",
        "# providing raw url to download csv from github\n",
        "csv_url = 'https://raw.githubusercontent.com/pedrogemal/mimic-iv-data/main/data/hf_cohort_060623.csv'\n",
        "\n",
        "download = github_session.get(csv_url).content\n",
        "df = pd.read_csv(io.StringIO(download.decode('utf-8')))\n",
        "\n",
        "df_raw = df.copy()"
      ]
    },
    {
      "cell_type": "markdown",
      "metadata": {
        "id": "93FnFpIrf97j"
      },
      "source": [
        "### Basic dataset information"
      ]
    },
    {
      "cell_type": "code",
      "execution_count": 8,
      "metadata": {
        "colab": {
          "base_uri": "https://localhost:8080/"
        },
        "id": "NGbAEZdWbolt",
        "outputId": "84f62489-6f47-4ead-8b3f-4a7193b79f6d"
      },
      "outputs": [
        {
          "output_type": "execute_result",
          "data": {
            "text/plain": [
              "Index(['subject_id', 'hadm_id', 'stay_id', 'admission_age', 'height', 'weight',\n",
              "       'sbp_mean', 'dbp_mean', 'mbp_mean', 'resp_rate_mean',\n",
              "       'temperature_mean', 'spo2_mean', 'urineoutput', 'hematocrit_max',\n",
              "       'hemoglobin_max', 'wbc_max', 'platelets_max', 'abs_neutrophils_max',\n",
              "       'abs_basophils_max', 'abs_lymphocytes_max', 'pt_max', 'inr_max',\n",
              "       'ptt_max', 'ck_cpk_max', 'creatinine_max', 'bun_max', 'glucose_max',\n",
              "       'potassium_max', 'sodium_max', 'calcium_max', 'chloride_max',\n",
              "       'aniongap_max', 'ph_min', 'bicarbonate_min', 'magnesium_min',\n",
              "       'lactate_max', 'pco2_max', 'gender', 'race', 'hospital_death',\n",
              "       'chronic_pulmonary_disease', 'diabetes_without_cc', 'renal_disease',\n",
              "       'myocardial_infarct', 'peripheral_vascular_disease',\n",
              "       'cerebrovascular_disease', 'heart_rate_max', 'mch_max', 'mchc_max',\n",
              "       'mcv_max', 'ntprobnp_max'],\n",
              "      dtype='object')"
            ]
          },
          "metadata": {},
          "execution_count": 8
        }
      ],
      "source": [
        "df.columns"
      ]
    },
    {
      "cell_type": "code",
      "execution_count": null,
      "metadata": {
        "id": "lUiF93bRQAHl"
      },
      "outputs": [],
      "source": [
        "# Checking for NaN values\n",
        "\n",
        "num_na = df.isna().sum()\n",
        "\n",
        "perc_na = df.isna().sum() * 100 / len(df)\n",
        "\n",
        "df_na = pd.DataFrame({\n",
        "    'Column': df.columns,\n",
        "    'Absent data': num_na,\n",
        "    'Percentage': perc_na\n",
        "})\n",
        "\n",
        "df_na.sort_values(by='Percentage', ascending=False)"
      ]
    },
    {
      "cell_type": "code",
      "execution_count": null,
      "metadata": {
        "id": "s2FjQOcuSWO5"
      },
      "outputs": [],
      "source": [
        "r, c = df.shape\n",
        "print(r)\n",
        "print(c)"
      ]
    },
    {
      "cell_type": "markdown",
      "metadata": {
        "id": "1BBkcpUj4JZg"
      },
      "source": [
        "## Data research parameters"
      ]
    },
    {
      "cell_type": "markdown",
      "metadata": {
        "id": "BsKlJ0D_2xNE"
      },
      "source": [
        "### Categorical data encoding"
      ]
    },
    {
      "cell_type": "markdown",
      "metadata": {
        "id": "sDTRQGEeMI8Z"
      },
      "source": [
        "#### Race data encoding"
      ]
    },
    {
      "cell_type": "code",
      "execution_count": null,
      "metadata": {
        "id": "RTT_TmBnwZPk"
      },
      "outputs": [],
      "source": [
        "# Data encoding for race\n",
        "\n",
        "def return_white_race_value(df):\n",
        "    if df['race'] == 'WHITE':\n",
        "        return 1\n",
        "    elif df['race'] == 'WHITE - BRAZILIAN':\n",
        "        return 1\n",
        "    elif df['race'] == 'WHITE - EASTERN EUROPEAN':\n",
        "        return 1\n",
        "    elif df['race'] == 'WHITE - OTHER EUROPEAN':\n",
        "        return 1\n",
        "    elif df['race'] == 'WHITE - RUSSIAN':\n",
        "        return 1\n",
        "    else:\n",
        "        return 0\n",
        "\n",
        "def create_white_race_column(df):\n",
        "    df['race_white'] = df.apply(return_white_race_value, axis=1)\n",
        "\n",
        "def return_black_race_value(df):\n",
        "    if df['race'] == 'BLACK/AFRICAN':\n",
        "        return 1\n",
        "    elif df['race'] == 'BLACK/AFRICAN AMERICAN':\n",
        "        return 1\n",
        "    elif df['race'] == 'BLACK/CAPE VERDEAN':\n",
        "        return 1\n",
        "    elif df['race'] == 'BLACK/CARIBBEAN ISLAND':\n",
        "        return 1\n",
        "    else:\n",
        "        return 0\n",
        "\n",
        "def create_black_race_column(df):\n",
        "    df['race_black'] = df.apply(return_black_race_value, axis=1)"
      ]
    },
    {
      "cell_type": "code",
      "execution_count": null,
      "metadata": {
        "id": "Lorhl__f1RvA"
      },
      "outputs": [],
      "source": [
        "create_white_race_column(df)\n",
        "create_black_race_column(df)"
      ]
    },
    {
      "cell_type": "code",
      "execution_count": null,
      "metadata": {
        "id": "fQoHU_E91h3-"
      },
      "outputs": [],
      "source": [
        "df.drop(['race'], axis=1, errors='ignore')"
      ]
    },
    {
      "cell_type": "markdown",
      "metadata": {
        "id": "TIj9lRzpEadK"
      },
      "source": [
        "#### Gender data encoding"
      ]
    },
    {
      "cell_type": "code",
      "execution_count": null,
      "metadata": {
        "id": "2HowZV5y1UUP"
      },
      "outputs": [],
      "source": [
        "# Data treatment for categorical variables\n",
        "# Data encoding for gender\n",
        "\n",
        "def return_male_gender_value(df):\n",
        "    if df['gender'] == 'M':\n",
        "        return 1\n",
        "    else:\n",
        "        return 0\n",
        "\n",
        "def create_male_gender_column(df):\n",
        "    df['gender_male'] = df.apply(return_male_gender_value, axis=1)\n",
        "\n",
        "def return_female_gender_value(df):\n",
        "    if df['gender'] == 'F':\n",
        "        return 1\n",
        "    else:\n",
        "        return 0\n",
        "\n",
        "def create_female_gender_column(df):\n",
        "    df['gender_female'] = df.apply(return_female_gender_value, axis=1)"
      ]
    },
    {
      "cell_type": "code",
      "execution_count": null,
      "metadata": {
        "id": "ZXuwmA7m2NX_"
      },
      "outputs": [],
      "source": [
        "create_male_gender_column(df)\n",
        "create_female_gender_column(df)"
      ]
    },
    {
      "cell_type": "code",
      "execution_count": null,
      "metadata": {
        "id": "rSWc4-9Y2VPj"
      },
      "outputs": [],
      "source": [
        "df.drop(['gender'], axis=1, inplace=True, errors='ignore')"
      ]
    },
    {
      "cell_type": "markdown",
      "metadata": {
        "id": "IwSqw7YU5hte"
      },
      "source": [
        "# Exploratory analysis"
      ]
    },
    {
      "cell_type": "markdown",
      "metadata": {
        "id": "KfKQ7eAz_QbH"
      },
      "source": [
        "### Data distribution profile"
      ]
    },
    {
      "cell_type": "code",
      "execution_count": null,
      "metadata": {
        "id": "njN84yvaluqa"
      },
      "outputs": [],
      "source": [
        "# import matplotlib.pyplot as plt\n",
        "\n",
        "# df[['sbp_mean', 'creatinine_max', 'bun_max']].dropna().plot.kde(figsize=[12,8])\n",
        "# plt.legend(['SysABP (mmHg)', 'Creatinine (mg/dL)', 'BUN (mg/dL)'])\n",
        "# plt.xlim([-30,250])"
      ]
    },
    {
      "cell_type": "code",
      "execution_count": null,
      "metadata": {
        "id": "EI8HEwyimIP-"
      },
      "outputs": [],
      "source": [
        "# df[['sbp_mean', 'creatinine_max', 'bun_max']].boxplot(whis=3)\n",
        "# plt.show()"
      ]
    },
    {
      "cell_type": "code",
      "execution_count": null,
      "metadata": {
        "id": "tsu6X_Gk_f0j"
      },
      "outputs": [],
      "source": [
        "# # col_list = df.columns.values.tolist()\n",
        "# # print(col_list)\n",
        "\n",
        "## for i, column in enumerate(df[['admission_age', 'height', 'weight', 'sbp_mean', 'dbp_mean', 'mbp_mean', 'resp_rate_mean', 'temperature_mean', 'spo2_mean', 'urineoutput', 'hematocrit_max', 'hemoglobin_max', 'wbc_max', 'platelets_max', 'abs_neutrophils_max', 'abs_basophils_max', 'abs_lymphocytes_max', 'pt_max', 'inr_max', 'ptt_max', 'ck_cpk_max', 'creatinine_max', 'bun_max', 'glucose_max', 'potassium_max', 'sodium_max', 'calcium_max', 'chloride_max', 'aniongap_max', 'ph_min', 'bicarbonate_min', 'lactate_max', 'pco2_max']].columns, 1):\n",
        "# for i, column in enumerate(df.columns, 1):\n",
        "\n",
        "#     plt.subplot(6,6,i+1)\n",
        "#     sns.histplot(df[column])"
      ]
    },
    {
      "cell_type": "markdown",
      "metadata": {
        "id": "sIsJr0nxv0D6"
      },
      "source": [
        "# Feature evaluation"
      ]
    },
    {
      "cell_type": "markdown",
      "metadata": {
        "id": "ACmZAyea4Dq9"
      },
      "source": [
        "### Identify highly correlated features"
      ]
    },
    {
      "cell_type": "code",
      "execution_count": null,
      "metadata": {
        "id": "leL2-Ta_5nIS"
      },
      "outputs": [],
      "source": [
        "# Create correlation matrix\n",
        "corr_matrix = df.corr().abs()\n",
        "\n",
        "# Select upper triangle of correlation matrix\n",
        "upper = corr_matrix.where(np.triu(np.ones(corr_matrix.shape), k=1).astype(bool))\n",
        "\n",
        "# Find features with correlation greater than 0.95\n",
        "to_drop = [column for column in upper.columns if any(upper[column] > 0.95)]\n",
        "print(to_drop)\n",
        "\n",
        "# Drop features\n",
        "# df.drop(to_drop, axis=1, inplace=True, errors='ignore')"
      ]
    },
    {
      "cell_type": "markdown",
      "metadata": {
        "id": "ZAZKE0SN7ac6"
      },
      "source": [
        "### Evaluate features with low variance"
      ]
    },
    {
      "cell_type": "code",
      "execution_count": null,
      "metadata": {
        "id": "cE9JLGYP7cbW"
      },
      "outputs": [],
      "source": [
        "from sklearn.feature_selection import VarianceThreshold\n",
        "\n",
        "def variance_threshold(df,th):\n",
        "    var_thres=VarianceThreshold(threshold=th)\n",
        "    var_thres.fit(df)\n",
        "    new_cols = var_thres.get_support()\n",
        "    return df.iloc[:,new_cols]"
      ]
    },
    {
      "cell_type": "code",
      "execution_count": null,
      "metadata": {
        "id": "ifWde5UdQhK3"
      },
      "outputs": [],
      "source": [
        "# variance_threshold(df, 0.8)"
      ]
    },
    {
      "cell_type": "markdown",
      "metadata": {
        "id": "GZnh9libRCEx"
      },
      "source": [
        "### Checking for data consistency and fixing if needed"
      ]
    },
    {
      "cell_type": "code",
      "execution_count": null,
      "metadata": {
        "id": "EjZDcWDrRNv7"
      },
      "outputs": [],
      "source": [
        "# (df.urineoutput < 0).sum()\n",
        "\n",
        "df.loc[df[\"urineoutput\"] < 0, \"urineoutput\"] = 0"
      ]
    },
    {
      "cell_type": "code",
      "execution_count": null,
      "metadata": {
        "id": "tf4pSsduRsd7"
      },
      "outputs": [],
      "source": [
        "(df.urineoutput < 0).sum()"
      ]
    },
    {
      "cell_type": "markdown",
      "metadata": {
        "id": "vbqhXfHn222l"
      },
      "source": [
        "# Dataframe filtering"
      ]
    },
    {
      "cell_type": "code",
      "execution_count": null,
      "metadata": {
        "id": "AfySyiUbW8Mk"
      },
      "outputs": [],
      "source": [
        "# To meet inclusion criteria\n",
        "\n",
        "df_only_available_pacients = df.dropna(subset=['sbp_mean', 'bun_max', 'creatinine_max', 'sodium_max', 'admission_age', 'heart_rate_max', 'race_black', 'chronic_pulmonary_disease'], how = 'any')"
      ]
    },
    {
      "cell_type": "code",
      "execution_count": null,
      "metadata": {
        "id": "uiJH-4bQXCqt"
      },
      "outputs": [],
      "source": [
        "df = df_only_available_pacients.copy()"
      ]
    },
    {
      "cell_type": "code",
      "execution_count": null,
      "metadata": {
        "id": "G97CbQpJxJ_q"
      },
      "outputs": [],
      "source": [
        "# Declare feature vector and target variable\n",
        "# Created columns related to the scores: 'adhere_low', 'adhere_int1', 'adhere_int2', 'adhere_int3', 'adhere_high', 'adhere_class', 'gwtg_1', 'gwtg_2', 'gwtg_3', 'gwtg_4', 'gwtg_5', 'gwtg_6', 'gwtg_7', 'gwtg_8', 'gwtg_9', 'gwtg_score'\n",
        "\n",
        "all_features = ['admission_age', 'height', 'weight', 'sbp_mean', 'dbp_mean', 'mbp_mean', 'resp_rate_mean', 'temperature_mean', 'spo2_mean', 'urineoutput', 'hematocrit_max', 'hemoglobin_max', 'wbc_max', 'platelets_max', 'abs_neutrophils_max', 'abs_basophils_max', 'abs_lymphocytes_max', 'pt_max', 'inr_max', 'ptt_max', 'ck_cpk_max', 'creatinine_max', 'bun_max', 'glucose_max', 'potassium_max', 'sodium_max', 'calcium_max', 'chloride_max', 'aniongap_max', 'ph_min', 'bicarbonate_min', 'magnesium_min', 'lactate_max', 'pco2_max', 'gender_male', 'race_black', 'hospital_death', 'chronic_pulmonary_disease', 'diabetes_without_cc', 'renal_disease', 'myocardial_infarct', 'peripheral_vascular_disease', 'cerebrovascular_disease', 'heart_rate_max', 'mch_max', 'mchc_max', 'mcv_max', 'ntprobnp_max']\n",
        "\n",
        "# features_included = ['admission_age', 'height', 'weight', 'sbp_mean', 'dbp_mean', 'mbp_mean', 'resp_rate_mean', 'temperature_mean', 'spo2_mean', 'magnesium_min', 'urineoutput', 'hematocrit_max', 'wbc_max', 'platelets_max', 'abs_neutrophils_max', 'abs_basophils_max', 'abs_lymphocytes_max', 'pt_max', 'ptt_max', 'ck_cpk_max', 'creatinine_max', 'bun_max', 'glucose_max', 'potassium_max', 'sodium_max', 'calcium_max', 'chloride_max', 'aniongap_max', 'ph_min', 'bicarbonate_min', 'lactate_max', 'pco2_max', 'heart_rate_max', 'race_black', 'chronic_pulmonary_disease']\n",
        "features_included = ['admission_age', 'weight', 'sbp_mean', 'dbp_mean', 'mbp_mean', 'resp_rate_mean', 'temperature_mean', 'spo2_mean', 'magnesium_min', 'urineoutput', 'hematocrit_max', 'wbc_max', 'platelets_max', 'pt_max', 'ptt_max', 'creatinine_max', 'bun_max', 'glucose_max', 'potassium_max', 'sodium_max', 'calcium_max', 'chloride_max', 'aniongap_max', 'bicarbonate_min', 'heart_rate_max', 'race_black', 'chronic_pulmonary_disease']\n",
        "\n",
        "# Testing magnesium influence\n",
        "\n",
        "X = df[features_included]\n",
        "X_all = df[all_features]\n",
        "\n",
        "y = df['hospital_death']"
      ]
    },
    {
      "cell_type": "markdown",
      "metadata": {
        "id": "0OYLsye241n7"
      },
      "source": [
        "# Testing different feature selection methods"
      ]
    },
    {
      "cell_type": "code",
      "execution_count": null,
      "metadata": {
        "id": "i-BZdSRcYrw-"
      },
      "outputs": [],
      "source": [
        "# from sklearn.model_selection import train_test_split\n",
        "\n",
        "# X_train_fs, X_test_fs, y_train_fs, y_test_fs = train_test_split(X_all, y, test_size=0.3, random_state=seed)"
      ]
    },
    {
      "cell_type": "code",
      "execution_count": null,
      "metadata": {
        "id": "b1xWIjhHj_T3"
      },
      "outputs": [],
      "source": [
        "# # Steps needed to perform feature selection\n",
        "\n",
        "# from sklearn.impute import KNNImputer\n",
        "# imputer = KNNImputer()\n",
        "\n",
        "# X_train_fs_imputed = pd.DataFrame(imputer.fit_transform(X_train_fs), columns=X_train_fs.columns)"
      ]
    },
    {
      "cell_type": "markdown",
      "metadata": {
        "id": "IUi1CfIlO2ca"
      },
      "source": [
        "#### Lasso"
      ]
    },
    {
      "cell_type": "code",
      "execution_count": null,
      "metadata": {
        "id": "LWbJ84_JJkTP"
      },
      "outputs": [],
      "source": [
        "# from sklearn.preprocessing import StandardScaler\n",
        "# from sklearn.pipeline import Pipeline\n",
        "# from sklearn.model_selection import GridSearchCV\n",
        "# from sklearn.linear_model import Lasso\n",
        "\n",
        "# pipeline = Pipeline([\n",
        "#                      ('scaler',StandardScaler()),\n",
        "#                      ('model',Lasso())\n",
        "# ])"
      ]
    },
    {
      "cell_type": "code",
      "execution_count": null,
      "metadata": {
        "id": "8hV1EKfbWIKQ"
      },
      "outputs": [],
      "source": [
        "# search = GridSearchCV(pipeline,\n",
        "#                       {'model__alpha':np.arange(0.1,10,0.1)},\n",
        "#                       cv = 5, scoring=\"neg_mean_squared_error\",verbose=3\n",
        "#                       )"
      ]
    },
    {
      "cell_type": "code",
      "execution_count": null,
      "metadata": {
        "id": "gmJM7RjmWdxH"
      },
      "outputs": [],
      "source": [
        "# features = X_train_fs.columns"
      ]
    },
    {
      "cell_type": "code",
      "execution_count": null,
      "metadata": {
        "id": "umXXP0tXWI_m"
      },
      "outputs": [],
      "source": [
        "# search.fit(X_train_fs_imputed, y_train_fs)"
      ]
    },
    {
      "cell_type": "code",
      "execution_count": null,
      "metadata": {
        "id": "ko8HU5jUWN_R"
      },
      "outputs": [],
      "source": [
        "# search.best_params_"
      ]
    },
    {
      "cell_type": "code",
      "execution_count": null,
      "metadata": {
        "id": "wInJrCQIWREU"
      },
      "outputs": [],
      "source": [
        "# coefficients = search.best_estimator_.named_steps['model'].coef_"
      ]
    },
    {
      "cell_type": "code",
      "execution_count": null,
      "metadata": {
        "id": "I4lKCOVnYdZy"
      },
      "outputs": [],
      "source": [
        "# coefficients"
      ]
    },
    {
      "cell_type": "code",
      "execution_count": null,
      "metadata": {
        "id": "L84ClAXLZWxy"
      },
      "outputs": [],
      "source": [
        "# from sklearn.feature_selection import SelectFromModel\n",
        "# from sklearn.linear_model import Lasso, LogisticRegression\n",
        "\n",
        "# sel_ = SelectFromModel(\n",
        "#     LogisticRegression(C=0.5, penalty='l1', solver='liblinear', random_state=10))\n",
        "\n",
        "# sel_.fit(X_train_fs_imputed, y_train_fs)"
      ]
    },
    {
      "cell_type": "code",
      "execution_count": null,
      "metadata": {
        "id": "Mrb9JGVLawKL"
      },
      "outputs": [],
      "source": [
        "# selected_feat = X_train_fs_imputed.columns[(sel_.get_support())]\n",
        "\n",
        "# print('total features: {}'.format((X_train_fs_imputed.shape[1])))\n",
        "# print('selected features: {}'.format(len(selected_feat)))"
      ]
    },
    {
      "cell_type": "code",
      "execution_count": null,
      "metadata": {
        "id": "G-klpqQaa7nT"
      },
      "outputs": [],
      "source": [
        "# from sklearn.linear_model import RidgeCV, LassoCV, Ridge, Lasso\n",
        "\n",
        "# reg = LassoCV()\n",
        "# reg.fit(X_train_fs_imputed, y_train_fs)\n",
        "# print(\"Best alpha using built-in LassoCV: %f\" % reg.alpha_)\n",
        "# print(\"Best score using built-in LassoCV: %f\" %reg.score(X_train_fs_imputed,y_train_fs))\n",
        "# coef = pd.Series(reg.coef_, index = X_train_fs_imputed.columns)"
      ]
    },
    {
      "cell_type": "code",
      "execution_count": null,
      "metadata": {
        "id": "GJ8MtoU-c6r5"
      },
      "outputs": [],
      "source": [
        "# print(\"Lasso picked \" + str(sum(coef != 0)) + \" variables and eliminated the other \" +  str(sum(coef == 0)) + \" variables\")"
      ]
    },
    {
      "cell_type": "code",
      "execution_count": null,
      "metadata": {
        "id": "V6AYXz5cc71Q"
      },
      "outputs": [],
      "source": [
        "# imp_coef = coef.sort_values(ascending=True).to_csv(\"lasso_fs.csv\", index = True)"
      ]
    },
    {
      "cell_type": "code",
      "execution_count": null,
      "metadata": {
        "id": "v5cfiM65ev4V"
      },
      "outputs": [],
      "source": [
        "# imp_coef = coef.sort_values()\n",
        "# plt.rcParams['figure.figsize'] = (8.0, 10.0)\n",
        "# imp_coef.plot(kind = \"barh\")\n",
        "# plt.title(\"Feature importance using Lasso Model\")"
      ]
    },
    {
      "cell_type": "markdown",
      "metadata": {
        "id": "2HcDufeMSOYj"
      },
      "source": [
        "#### Univariate Selection"
      ]
    },
    {
      "cell_type": "code",
      "execution_count": null,
      "metadata": {
        "id": "exGy96sKSPPQ"
      },
      "outputs": [],
      "source": [
        "# from sklearn.feature_selection import SelectKBest\n",
        "# from sklearn.feature_selection import f_classif\n",
        "\n",
        "# test = SelectKBest(score_func=f_classif, k=30)\n",
        "# fit = test.fit(X_train_fs_imputed, y_train_fs)"
      ]
    },
    {
      "cell_type": "code",
      "execution_count": null,
      "metadata": {
        "id": "v7UFFM6MSWkw"
      },
      "outputs": [],
      "source": [
        "# from numpy import set_printoptions\n",
        "\n",
        "# # summarize scores\n",
        "# set_printoptions(precision=3)\n",
        "# # print(fit.scores_)\n",
        "# features = fit.transform(X_train_fs_imputed)\n",
        "# # summarize selected features\n",
        "# print(features[0:5,:])\n"
      ]
    },
    {
      "cell_type": "markdown",
      "metadata": {
        "id": "30FnkEZPO6tJ"
      },
      "source": [
        "#### PCA"
      ]
    },
    {
      "cell_type": "code",
      "execution_count": null,
      "metadata": {
        "id": "zddUuKLaO9l-"
      },
      "outputs": [],
      "source": [
        "# # WIP\n",
        "\n",
        "# from sklearn.decomposition import PCA\n",
        "\n",
        "# nf = 30\n",
        "# #pca = PCA()\n",
        "# pca = PCA(n_components=nf)\n",
        "# fit = pca.fit(X_all_imputed)\n",
        "# # X_train_pca = pca.fit_transform(X_train)\n",
        "# # X_test_pca = pca.transform(X_test)"
      ]
    },
    {
      "cell_type": "code",
      "execution_count": null,
      "metadata": {
        "id": "rwPzFB0cPsbA"
      },
      "outputs": [],
      "source": [
        "# print(X_train_pca.shape)\n",
        "# print(X_train_pca)"
      ]
    },
    {
      "cell_type": "code",
      "execution_count": null,
      "metadata": {
        "id": "mHtPnA6JPfCh"
      },
      "outputs": [],
      "source": [
        "# print(\"Explained Variance: %s\" % fit.explained_variance_ratio_)"
      ]
    },
    {
      "cell_type": "code",
      "execution_count": null,
      "metadata": {
        "id": "YD-86PfRRsi5"
      },
      "outputs": [],
      "source": [
        "# print(fit.components_)"
      ]
    },
    {
      "cell_type": "markdown",
      "metadata": {
        "id": "lhvgxPng2j3w"
      },
      "source": [
        "#### RFE"
      ]
    },
    {
      "cell_type": "code",
      "execution_count": null,
      "metadata": {
        "id": "y1D5_iqm2ish"
      },
      "outputs": [],
      "source": [
        "# from sklearn.feature_selection import RFE\n",
        "# from sklearn.tree import DecisionTreeClassifier\n",
        "# # define RFE\n",
        "# rfe = RFE(estimator=DecisionTreeClassifier(), n_features_to_select=30)\n",
        "# # fit RFE\n",
        "# rfe.fit(X_all_imputed, y)\n",
        "# # summarize all features\n",
        "# for i in range(X.shape[1]):\n",
        "#  print('Column: %d, Selected %s, Rank: %.3f' % (i, rfe.support_[i], rfe.ranking_[i]))"
      ]
    },
    {
      "cell_type": "markdown",
      "metadata": {
        "id": "3naEwBSq3I6Z"
      },
      "source": [
        "# Data preprocessing"
      ]
    },
    {
      "cell_type": "markdown",
      "metadata": {
        "id": "ansU1NRCRmkO"
      },
      "source": [
        "## Train and test split"
      ]
    },
    {
      "cell_type": "code",
      "execution_count": null,
      "metadata": {
        "id": "AuRoUQ3m9-L0"
      },
      "outputs": [],
      "source": []
    },
    {
      "cell_type": "code",
      "execution_count": null,
      "metadata": {
        "id": "NOIYDR90xk_e"
      },
      "outputs": [],
      "source": [
        "from sklearn.model_selection import train_test_split\n",
        "\n",
        "# X_train, X_test, y_train, y_test = train_test_split(X, y, test_size=0.44, stratify=y)\n",
        "# X_train, X_test, y_train, y_test = train_test_split(X, y, test_size=0.2, stratify=y)\n",
        "X_train, X_test, y_train, y_test = train_test_split(X, y, test_size=0.2, stratify=y, random_state=seed)"
      ]
    },
    {
      "cell_type": "code",
      "execution_count": null,
      "metadata": {
        "id": "o4c_Fppeg_iq"
      },
      "outputs": [],
      "source": [
        "# For table 1\n",
        "\n",
        "X_train_all, X_test_all, y_train_all, y_test_all = train_test_split(X_all, y, test_size=0.2, stratify=y, random_state=seed)"
      ]
    },
    {
      "cell_type": "markdown",
      "metadata": {
        "id": "ljv-efAwSs4F"
      },
      "source": [
        "## Train data imputation"
      ]
    },
    {
      "cell_type": "code",
      "execution_count": null,
      "metadata": {
        "id": "Up-SwZW-gEbY"
      },
      "outputs": [],
      "source": [
        "from sklearn.impute import KNNImputer\n",
        "\n",
        "imputer = KNNImputer(n_neighbors=10)\n",
        "# X_train_imputed = pd.DataFrame(imputer.fit_transform(X_train_scaled), columns=X_train_scaled.columns)\n",
        "X_train_imputed = pd.DataFrame(imputer.fit_transform(X_train), columns=X_train.columns)"
      ]
    },
    {
      "cell_type": "code",
      "execution_count": null,
      "metadata": {
        "id": "2LMdvBffRNXC"
      },
      "outputs": [],
      "source": [
        "# X_test_imputed = pd.DataFrame(imputer.fit_transform(X_test_scaled), columns=X_test_scaled.columns)\n",
        "X_test_imputed = pd.DataFrame(imputer.transform(X_test), columns=X_test.columns)"
      ]
    },
    {
      "cell_type": "markdown",
      "metadata": {
        "id": "tTgG8eVEBV5A"
      },
      "source": [
        "## Train data resampling (disabled)"
      ]
    },
    {
      "cell_type": "code",
      "execution_count": null,
      "metadata": {
        "id": "xk4adgGaBgJQ"
      },
      "outputs": [],
      "source": [
        "# # https://imbalanced-learn.org/stable/references/generated/imblearn.over_sampling.SMOTENC.html#imblearn.over_sampling.SMOTENC\n",
        "# import imblearn\n",
        "# # from imblearn.over_sampling import SMOTE\n",
        "# from imblearn.over_sampling import SMOTENC"
      ]
    },
    {
      "cell_type": "code",
      "execution_count": null,
      "metadata": {
        "id": "jMUvPem9zafw"
      },
      "outputs": [],
      "source": [
        "# idx_dic = {}\n",
        "# for col in X_train_imputed.columns:\n",
        "#     idx_dic[col] = X_train_imputed.columns.get_loc(col)\n",
        "# print(idx_dic)"
      ]
    },
    {
      "cell_type": "code",
      "execution_count": null,
      "metadata": {
        "id": "UwJcuUC2BnlV"
      },
      "outputs": [],
      "source": [
        "# # smote = SMOTENC(categorical_features=[33, 34])\n",
        "# smote = SMOTENC(categorical_features=[25, 26], random_state=seed)\n",
        "\n",
        "# X_train_sm, y_train_sm = smote.fit_resample(X_train_imputed, y_train)"
      ]
    },
    {
      "cell_type": "code",
      "execution_count": null,
      "metadata": {
        "id": "CHjrZpPOtiBW"
      },
      "outputs": [],
      "source": [
        "# X_train_sm = pd.DataFrame(X_train_sm)\n",
        "# X_train_sm.columns = X_train_sm.keys().tolist()\n",
        "# y_train_sm = pd.DataFrame(y_train_sm)"
      ]
    },
    {
      "cell_type": "code",
      "execution_count": null,
      "metadata": {
        "id": "ncXkfkW5SyTp"
      },
      "outputs": [],
      "source": [
        "# X_test_sm, y_test_sm = smote.fit_resample(X_test_imputed, y_test)"
      ]
    },
    {
      "cell_type": "code",
      "execution_count": null,
      "metadata": {
        "id": "pFCOpk29S0_Z"
      },
      "outputs": [],
      "source": [
        "# X_test_sm = pd.DataFrame(X_test_sm)\n",
        "# X_test_sm.columns = X_test_sm.keys().tolist()\n",
        "# y_test_sm = pd.DataFrame(y_test_sm)"
      ]
    },
    {
      "cell_type": "code",
      "execution_count": null,
      "metadata": {
        "id": "G6EuiqzRs021"
      },
      "outputs": [],
      "source": [
        "# X_train_sm.shape"
      ]
    },
    {
      "cell_type": "code",
      "execution_count": null,
      "metadata": {
        "id": "aaMBuF69s5m_"
      },
      "outputs": [],
      "source": [
        "# X_test.shape"
      ]
    },
    {
      "cell_type": "code",
      "execution_count": null,
      "metadata": {
        "id": "3N1juG-zF3Lo"
      },
      "outputs": [],
      "source": [
        "# To override oversampling\n",
        "X_train_sm = X_train_imputed.copy()\n",
        "y_train_sm = y_train.copy()\n",
        "X_test_sm = X_test_imputed.copy()\n",
        "y_test_sm = y_test.copy()"
      ]
    },
    {
      "cell_type": "markdown",
      "metadata": {
        "id": "VdOvFyyh17Mf"
      },
      "source": [
        "## Data handling"
      ]
    },
    {
      "cell_type": "markdown",
      "metadata": {
        "id": "THMGMbEZ_kPN"
      },
      "source": [
        "### Adhere score definitions"
      ]
    },
    {
      "cell_type": "code",
      "execution_count": null,
      "metadata": {
        "id": "5GtFu1MmhbC-"
      },
      "outputs": [],
      "source": [
        "def create_adhere_score(df):\n",
        "\n",
        "  adhere_list = df.filter(['adhere_low', 'adhere_int1', 'adhere_int2', 'adhere_int3', 'adhere_high', 'adhere_class'])\n",
        "  df.drop(adhere_list, inplace=True, axis=1, errors='ignore')\n",
        "\n",
        "  df['adhere_low'] = np.where(((df['sbp_mean'] >= 115.0) & (df['bun_max'] < 43.0)), 1, 0)\n",
        "  df['adhere_int1'] = np.where(((df['sbp_mean'] < 115.0) & (df['bun_max'] >= 43.0) & (df['creatinine_max'] < 2.75)), 1, 0)\n",
        "  df['adhere_int2'] = np.where(((df['sbp_mean'] >= 115.0) & (df['bun_max'] >= 43.0)), 1, 0)\n",
        "  df['adhere_int3'] = np.where(((df['sbp_mean'] < 115.0) & (df['bun_max'] < 43.0)), 1, 0)\n",
        "  df['adhere_high'] = np.where(((df['sbp_mean'] < 115.0) & (df['bun_max'] >= 43.0) & (df['creatinine_max'] >= 2.75)), 1, 0)"
      ]
    },
    {
      "cell_type": "code",
      "execution_count": null,
      "metadata": {
        "id": "-X4d3ImdAb-G"
      },
      "outputs": [],
      "source": [
        "def create_adhere_class(df):\n",
        "\n",
        "  df['adhere_class'] = np.where((df['adhere_low'] == 1), 'adhere_low',\n",
        "                       np.where((df['adhere_int1'] == 1), 'adhere_int1',\n",
        "                       np.where((df['adhere_int2'] == 1), 'adhere_int2',\n",
        "                       np.where((df['adhere_int3'] == 1), 'adhere_int2',\n",
        "                       np.where((df['adhere_int3'] == 1), 'adhere_int3',\n",
        "                       np.where((df['adhere_high'] == 1), 'adhere_high'))))))"
      ]
    },
    {
      "cell_type": "code",
      "execution_count": null,
      "metadata": {
        "id": "r-iA2IKOEJoM"
      },
      "outputs": [],
      "source": [
        "def return_adhere_class(df):\n",
        "    if df['adhere_low'] == 1:\n",
        "        return 'adhere_low'\n",
        "    elif df['adhere_int1'] == 1:\n",
        "        return 'adhere_int1'\n",
        "    elif df['adhere_int2'] == 1:\n",
        "        return 'adhere_int2'\n",
        "    elif df['adhere_int3'] == 1:\n",
        "        return 'adhere_int3'\n",
        "    else:\n",
        "        return 'adhere_high'"
      ]
    },
    {
      "cell_type": "code",
      "execution_count": null,
      "metadata": {
        "id": "UgZtWMPoZGEO"
      },
      "outputs": [],
      "source": [
        "# def return_adhere_bin_death(df):\n",
        "#     if df['adhere_low'] == 1:\n",
        "#         return 0\n",
        "#     elif df['adhere_int1'] == 1:\n",
        "#         return 1\n",
        "#     elif df['adhere_int2'] == 1:\n",
        "#         return 0\n",
        "#     elif df['adhere_int3'] == 1:\n",
        "#         return 0\n",
        "#     else:\n",
        "#         return 1"
      ]
    },
    {
      "cell_type": "code",
      "execution_count": null,
      "metadata": {
        "id": "FGzCiv5otUL4"
      },
      "outputs": [],
      "source": [
        "def return_adhere_bin_score(df):\n",
        "\n",
        "    result = 0\n",
        "\n",
        "    if df['adhere_low'] == 1:\n",
        "        result = 1\n",
        "    elif df['adhere_int3'] == 1:\n",
        "        result = 2\n",
        "    elif df['adhere_int2'] == 1:\n",
        "        result = 3\n",
        "    elif df['adhere_int1'] == 1:\n",
        "        result = 4\n",
        "    elif df['adhere_high'] == 1:\n",
        "        result = 5\n",
        "\n",
        "    return result"
      ]
    },
    {
      "cell_type": "code",
      "execution_count": null,
      "metadata": {
        "id": "aBXt34M6NexY"
      },
      "outputs": [],
      "source": [
        "def create_adhere_label(df):\n",
        "    df['adhere_class'] = df.apply(return_adhere_class, axis=1)"
      ]
    },
    {
      "cell_type": "code",
      "execution_count": null,
      "metadata": {
        "id": "rqHam6LPvZUo"
      },
      "outputs": [],
      "source": [
        "def create_adhere_bin_stats(df):\n",
        "    df['adhere_score'] = df.apply(return_adhere_bin_score, axis=1)"
      ]
    },
    {
      "cell_type": "code",
      "execution_count": null,
      "metadata": {
        "id": "8TJGrAm0Ngy2"
      },
      "outputs": [],
      "source": [
        "# def create_adhere_bin_death(df):\n",
        "#     df['adhere_bin_death'] = df.apply(return_adhere_bin_death, axis=1)"
      ]
    },
    {
      "cell_type": "code",
      "execution_count": null,
      "metadata": {
        "id": "zCmIXCaNNjK6"
      },
      "outputs": [],
      "source": [
        "def delete_all_adhere(df):\n",
        "    df.drop('adhere_low', inplace=True, axis=1, errors='ignore')\n",
        "    df.drop('adhere_int1', inplace=True, axis=1, errors='ignore')\n",
        "    df.drop('adhere_int2', inplace=True, axis=1, errors='ignore')\n",
        "    df.drop('adhere_int3', inplace=True, axis=1, errors='ignore')\n",
        "    df.drop('adhere_high', inplace=True, axis=1, errors='ignore')\n",
        "    df.drop('adhere_class', inplace=True, axis=1, errors='ignore')"
      ]
    },
    {
      "cell_type": "code",
      "execution_count": null,
      "metadata": {
        "id": "hDlwXZ1md8xp"
      },
      "outputs": [],
      "source": [
        "def delete_adhere_label(df):\n",
        "    df.drop('adhere_class', inplace=True, axis=1, errors='ignore')"
      ]
    },
    {
      "cell_type": "markdown",
      "metadata": {
        "id": "BqbPVNkQ_on4"
      },
      "source": [
        "### GWTG definitions"
      ]
    },
    {
      "cell_type": "code",
      "execution_count": null,
      "metadata": {
        "id": "lKQaJBVN3Gfp"
      },
      "outputs": [],
      "source": [
        "def calculate_gwtg_score(row):\n",
        "\n",
        "  sbp_points, bun_points, sodium_points, age_points, hr_points, race_points, copd_points = 0, 0, 0, 0, 0, 0, 0\n",
        "  gwtg_score = 0\n",
        "\n",
        "  if (round(row['sbp_mean']) <= 49):\n",
        "    sbp_points = 0\n",
        "  if (round(row['sbp_mean']) >= 50) & (round(row['sbp_mean']) <= 59):\n",
        "    sbp_points = 28\n",
        "  elif (round(row['sbp_mean']) >= 60) & (round(row['sbp_mean']) <= 69):\n",
        "    sbp_points = 26\n",
        "  elif (round(row['sbp_mean']) >= 70) & (round(row['sbp_mean']) <= 79):\n",
        "    sbp_points = 24\n",
        "  elif (round(row['sbp_mean']) >= 80) & (round(row['sbp_mean']) <= 89):\n",
        "    sbp_points = 23\n",
        "  elif (round(row['sbp_mean']) >= 90) & (round(row['sbp_mean']) <= 99):\n",
        "    sbp_points = 21\n",
        "  elif (round(row['sbp_mean']) >= 100) & (round(row['sbp_mean']) <= 109):\n",
        "    sbp_points = 19\n",
        "  elif (round(row['sbp_mean']) >= 110) & (round(row['sbp_mean']) <= 119):\n",
        "    sbp_points = 17\n",
        "  elif (round(row['sbp_mean']) >= 120) & (round(row['sbp_mean']) <= 129):\n",
        "    sbp_points = 15\n",
        "  elif (round(row['sbp_mean']) >= 130) & (round(row['sbp_mean']) <= 139):\n",
        "    sbp_points = 13\n",
        "  elif (round(row['sbp_mean']) >= 140) & (round(row['sbp_mean']) <= 149):\n",
        "    sbp_points = 11\n",
        "  elif (round(row['sbp_mean']) >= 150) & (round(row['sbp_mean']) <= 159):\n",
        "    sbp_points = 9\n",
        "  elif (round(row['sbp_mean']) >= 160) & (round(row['sbp_mean']) <= 169):\n",
        "    sbp_points = 8\n",
        "  elif (round(row['sbp_mean']) >= 170) & (round(row['sbp_mean']) <= 179):\n",
        "    sbp_points = 6\n",
        "  elif (round(row['sbp_mean']) >= 180) & (round(row['sbp_mean']) <= 189):\n",
        "    sbp_points = 4\n",
        "  elif (round(row['sbp_mean']) >= 190) & (round(row['sbp_mean']) <= 199):\n",
        "    sbp_points = 2\n",
        "  elif (round(row['sbp_mean']) >= 200):\n",
        "    sbp_points = 0\n",
        "  else:\n",
        "    sbp_points = 0\n",
        "\n",
        "  if (round(row['bun_max']) >= 150):\n",
        "    bun_points = 28\n",
        "  elif (round(row['bun_max']) >= 140) & (round(row['bun_max']) <= 149):\n",
        "    bun_points = 27\n",
        "  elif (round(row['bun_max']) >= 130) & (round(row['bun_max']) <= 139):\n",
        "    bun_points = 25\n",
        "  elif (round(row['bun_max']) >= 120) & (round(row['bun_max']) <= 129):\n",
        "    bun_points = 23\n",
        "  elif (round(row['bun_max']) >= 110) & (round(row['bun_max']) <= 119):\n",
        "    bun_points = 21\n",
        "  elif (round(row['bun_max']) >= 100) & (round(row['bun_max']) <= 109):\n",
        "    bun_points = 19\n",
        "  elif (round(row['bun_max']) >= 90) & (round(row['bun_max']) <= 99):\n",
        "    bun_points = 17\n",
        "  elif (round(row['bun_max']) >= 80) & (round(row['bun_max']) <= 89):\n",
        "    bun_points = 15\n",
        "  elif (round(row['bun_max']) >= 70) & (round(row['bun_max']) <= 79):\n",
        "    bun_points = 13\n",
        "  elif (round(row['bun_max']) >= 60) & (round(row['bun_max']) <= 69):\n",
        "    bun_points = 11\n",
        "  elif (round(row['bun_max']) >= 50) & (round(row['bun_max']) <= 59):\n",
        "    bun_points = 9\n",
        "  elif (round(row['bun_max']) >= 40) & (round(row['bun_max']) <= 49):\n",
        "    bun_points = 8\n",
        "  elif (round(row['bun_max']) >= 30) & (round(row['bun_max']) <= 39):\n",
        "    bun_points = 6\n",
        "  elif (round(row['bun_max']) >= 20) & (round(row['bun_max']) <= 29):\n",
        "    bun_points = 4\n",
        "  elif (round(row['bun_max']) >= 10) & (round(row['bun_max']) <= 19):\n",
        "    bun_points = 2\n",
        "  elif (round(row['bun_max']) <= 9):\n",
        "    bun_points = 0\n",
        "  else:\n",
        "    bun_points = 0\n",
        "\n",
        "  if (round(row['sodium_max']) <= 130):\n",
        "    sodium_points = 4\n",
        "  elif (round(row['sodium_max']) >= 131) & (round(row['sbp_mean']) <= 133):\n",
        "    sodium_points = 3\n",
        "  elif (round(row['sodium_max']) >= 134) & (round(row['sodium_max']) <= 136):\n",
        "    sodium_points = 2\n",
        "  elif (round(row['sodium_max']) >= 137) & (round(row['sodium_max']) <= 138):\n",
        "    sodium_points = 1\n",
        "  elif (round(row['sodium_max']) >= 139):\n",
        "    sodium_points = 0\n",
        "  else:\n",
        "    sodium_points = 0\n",
        "\n",
        "  if (round(row['admission_age']) >= 110):\n",
        "    age_points = 28\n",
        "  elif (round(row['admission_age']) >= 100) & (round(row['admission_age']) <= 109):\n",
        "    age_points = 25\n",
        "  elif (round(row['admission_age']) >= 90) & (round(row['admission_age']) <= 99):\n",
        "    age_points = 22\n",
        "  elif (round(row['admission_age']) >= 80) & (round(row['admission_age']) <= 89):\n",
        "    age_points = 19\n",
        "  elif (round(row['admission_age']) >= 70) & (round(row['admission_age']) <= 79):\n",
        "    age_points = 17\n",
        "  elif (round(row['admission_age']) >= 60) & (round(row['admission_age']) <= 69):\n",
        "    age_points = 14\n",
        "  elif (round(row['admission_age']) >= 50) & (round(row['admission_age']) <= 59):\n",
        "    age_points = 11\n",
        "  elif (round(row['admission_age']) >= 40) & (round(row['admission_age']) <= 49):\n",
        "    age_points = 8\n",
        "  elif (round(row['admission_age']) >= 30) & (round(row['admission_age']) <= 39):\n",
        "    age_points = 6\n",
        "  elif (round(row['admission_age']) >= 20) & (round(row['admission_age']) <= 29):\n",
        "    age_points = 3\n",
        "  elif (round(row['admission_age']) <= 19):\n",
        "    age_points = 0\n",
        "  else:\n",
        "    age_points = 0\n",
        "\n",
        "  if (round(row['heart_rate_max']) >= 105):\n",
        "    hr_points = 8\n",
        "  elif (round(row['heart_rate_max']) >= 100) & (round(row['heart_rate_max']) <= 104):\n",
        "    hr_points = 6\n",
        "  elif (round(row['heart_rate_max']) >= 95) & (round(row['heart_rate_max']) <= 99):\n",
        "    hr_points = 5\n",
        "  elif (round(row['heart_rate_max']) >= 90) & (round(row['heart_rate_max']) <= 94):\n",
        "    hr_points = 4\n",
        "  elif (round(row['heart_rate_max']) >= 85) & (round(row['heart_rate_max']) <= 89):\n",
        "    hr_points = 3\n",
        "  elif (round(row['heart_rate_max']) >= 80) & (round(row['heart_rate_max']) <= 84):\n",
        "    hr_points = 1\n",
        "  elif (round(row['heart_rate_max']) <= 79):\n",
        "    hr_points = 0\n",
        "  else:\n",
        "    hr_points = 0\n",
        "\n",
        "  if (row['race_black'] == 0):\n",
        "    race_points = 0\n",
        "  else:\n",
        "    race_points = 3\n",
        "\n",
        "  if (row['chronic_pulmonary_disease'] == 0):\n",
        "    copd_points = 0\n",
        "  else:\n",
        "    copd_points = 2\n",
        "\n",
        "  gwtg_score = sbp_points + bun_points + sodium_points + age_points + hr_points + race_points + copd_points\n",
        "  return gwtg_score"
      ]
    },
    {
      "cell_type": "code",
      "execution_count": null,
      "metadata": {
        "id": "XpYgCkGKqt0x"
      },
      "outputs": [],
      "source": [
        "def calculate_gwtg_bin(row):\n",
        "\n",
        "  sbp_points, bun_points, sodium_points, age_points, hr_points, race_points, copd_points = 0, 0, 0, 0, 0, 0, 0\n",
        "  gwtg_score = 0\n",
        "  gwtg_prob_group = 0\n",
        "\n",
        "  if (round(row['sbp_mean']) <= 49):\n",
        "    sbp_points = 0\n",
        "  if (round(row['sbp_mean']) >= 50) & (round(row['sbp_mean']) <= 59):\n",
        "    sbp_points = 28\n",
        "  elif (round(row['sbp_mean']) >= 60) & (round(row['sbp_mean']) <= 69):\n",
        "    sbp_points = 26\n",
        "  elif (round(row['sbp_mean']) >= 70) & (round(row['sbp_mean']) <= 79):\n",
        "    sbp_points = 24\n",
        "  elif (round(row['sbp_mean']) >= 80) & (round(row['sbp_mean']) <= 89):\n",
        "    sbp_points = 23\n",
        "  elif (round(row['sbp_mean']) >= 90) & (round(row['sbp_mean']) <= 99):\n",
        "    sbp_points = 21\n",
        "  elif (round(row['sbp_mean']) >= 100) & (round(row['sbp_mean']) <= 109):\n",
        "    sbp_points = 19\n",
        "  elif (round(row['sbp_mean']) >= 110) & (round(row['sbp_mean']) <= 119):\n",
        "    sbp_points = 17\n",
        "  elif (round(row['sbp_mean']) >= 120) & (round(row['sbp_mean']) <= 129):\n",
        "    sbp_points = 15\n",
        "  elif (round(row['sbp_mean']) >= 130) & (round(row['sbp_mean']) <= 139):\n",
        "    sbp_points = 13\n",
        "  elif (round(row['sbp_mean']) >= 140) & (round(row['sbp_mean']) <= 149):\n",
        "    sbp_points = 11\n",
        "  elif (round(row['sbp_mean']) >= 150) & (round(row['sbp_mean']) <= 159):\n",
        "    sbp_points = 9\n",
        "  elif (round(row['sbp_mean']) >= 160) & (round(row['sbp_mean']) <= 169):\n",
        "    sbp_points = 8\n",
        "  elif (round(row['sbp_mean']) >= 170) & (round(row['sbp_mean']) <= 179):\n",
        "    sbp_points = 6\n",
        "  elif (round(row['sbp_mean']) >= 180) & (round(row['sbp_mean']) <= 189):\n",
        "    sbp_points = 4\n",
        "  elif (round(row['sbp_mean']) >= 190) & (round(row['sbp_mean']) <= 199):\n",
        "    sbp_points = 2\n",
        "  elif (round(row['sbp_mean']) >= 200):\n",
        "    sbp_points = 0\n",
        "  else:\n",
        "    sbp_points = 0\n",
        "\n",
        "  if (round(row['bun_max']) >= 150):\n",
        "    bun_points = 28\n",
        "  elif (round(row['bun_max']) >= 140) & (round(row['bun_max']) <= 149):\n",
        "    bun_points = 27\n",
        "  elif (round(row['bun_max']) >= 130) & (round(row['bun_max']) <= 139):\n",
        "    bun_points = 25\n",
        "  elif (round(row['bun_max']) >= 120) & (round(row['bun_max']) <= 129):\n",
        "    bun_points = 23\n",
        "  elif (round(row['bun_max']) >= 110) & (round(row['bun_max']) <= 119):\n",
        "    bun_points = 21\n",
        "  elif (round(row['bun_max']) >= 100) & (round(row['bun_max']) <= 109):\n",
        "    bun_points = 19\n",
        "  elif (round(row['bun_max']) >= 90) & (round(row['bun_max']) <= 99):\n",
        "    bun_points = 17\n",
        "  elif (round(row['bun_max']) >= 80) & (round(row['bun_max']) <= 89):\n",
        "    bun_points = 15\n",
        "  elif (round(row['bun_max']) >= 70) & (round(row['bun_max']) <= 79):\n",
        "    bun_points = 13\n",
        "  elif (round(row['bun_max']) >= 60) & (round(row['bun_max']) <= 69):\n",
        "    bun_points = 11\n",
        "  elif (round(row['bun_max']) >= 50) & (round(row['bun_max']) <= 59):\n",
        "    bun_points = 9\n",
        "  elif (round(row['bun_max']) >= 40) & (round(row['bun_max']) <= 49):\n",
        "    bun_points = 8\n",
        "  elif (round(row['bun_max']) >= 30) & (round(row['bun_max']) <= 39):\n",
        "    bun_points = 6\n",
        "  elif (round(row['bun_max']) >= 20) & (round(row['bun_max']) <= 29):\n",
        "    bun_points = 4\n",
        "  elif (round(row['bun_max']) >= 10) & (round(row['bun_max']) <= 19):\n",
        "    bun_points = 2\n",
        "  elif (round(row['bun_max']) <= 9):\n",
        "    bun_points = 0\n",
        "  else:\n",
        "    bun_points = 0\n",
        "\n",
        "  if (round(row['sodium_max']) <= 130):\n",
        "    sodium_points = 4\n",
        "  elif (round(row['sodium_max']) >= 131) & (round(row['sbp_mean']) <= 133):\n",
        "    sodium_points = 3\n",
        "  elif (round(row['sodium_max']) >= 134) & (round(row['sodium_max']) <= 136):\n",
        "    sodium_points = 2\n",
        "  elif (round(row['sodium_max']) >= 137) & (round(row['sodium_max']) <= 138):\n",
        "    sodium_points = 1\n",
        "  elif (round(row['sodium_max']) >= 139):\n",
        "    sodium_points = 0\n",
        "  else:\n",
        "    sodium_points = 0\n",
        "\n",
        "  if (round(row['admission_age']) >= 110):\n",
        "    age_points = 28\n",
        "  elif (round(row['admission_age']) >= 100) & (round(row['admission_age']) <= 109):\n",
        "    age_points = 25\n",
        "  elif (round(row['admission_age']) >= 90) & (round(row['admission_age']) <= 99):\n",
        "    age_points = 22\n",
        "  elif (round(row['admission_age']) >= 80) & (round(row['admission_age']) <= 89):\n",
        "    age_points = 19\n",
        "  elif (round(row['admission_age']) >= 70) & (round(row['admission_age']) <= 79):\n",
        "    age_points = 17\n",
        "  elif (round(row['admission_age']) >= 60) & (round(row['admission_age']) <= 69):\n",
        "    age_points = 14\n",
        "  elif (round(row['admission_age']) >= 50) & (round(row['admission_age']) <= 59):\n",
        "    age_points = 11\n",
        "  elif (round(row['admission_age']) >= 40) & (round(row['admission_age']) <= 49):\n",
        "    age_points = 8\n",
        "  elif (round(row['admission_age']) >= 30) & (round(row['admission_age']) <= 39):\n",
        "    age_points = 6\n",
        "  elif (round(row['admission_age']) >= 20) & (round(row['admission_age']) <= 29):\n",
        "    age_points = 3\n",
        "  elif (round(row['admission_age']) <= 19):\n",
        "    age_points = 0\n",
        "  else:\n",
        "    age_points = 0\n",
        "\n",
        "  if (round(row['heart_rate_max']) >= 105):\n",
        "    hr_points = 8\n",
        "  elif (round(row['heart_rate_max']) >= 100) & (round(row['heart_rate_max']) <= 104):\n",
        "    hr_points = 6\n",
        "  elif (round(row['heart_rate_max']) >= 95) & (round(row['heart_rate_max']) <= 99):\n",
        "    hr_points = 5\n",
        "  elif (round(row['heart_rate_max']) >= 90) & (round(row['heart_rate_max']) <= 94):\n",
        "    hr_points = 4\n",
        "  elif (round(row['heart_rate_max']) >= 85) & (round(row['heart_rate_max']) <= 89):\n",
        "    hr_points = 3\n",
        "  elif (round(row['heart_rate_max']) >= 80) & (round(row['heart_rate_max']) <= 84):\n",
        "    hr_points = 1\n",
        "  elif (round(row['heart_rate_max']) <= 79):\n",
        "    hr_points = 0\n",
        "  else:\n",
        "    hr_points = 0\n",
        "\n",
        "  if (row['race_black'] == 0):\n",
        "    race_points = 0\n",
        "  else:\n",
        "    race_points = 3\n",
        "\n",
        "  if (row['chronic_pulmonary_disease'] == 0):\n",
        "    copd_points = 0\n",
        "  else:\n",
        "    copd_points = 2\n",
        "\n",
        "  gwtg_score = sbp_points + bun_points + sodium_points + age_points + hr_points + race_points + copd_points\n",
        "\n",
        "  if (gwtg_score >= 0) & (gwtg_score <= 33):\n",
        "    gwtg_prob_group = 1\n",
        "  elif (gwtg_score >= 34) & (gwtg_score <= 50):\n",
        "    gwtg_prob_group = 2\n",
        "  elif (gwtg_score >= 51) & (gwtg_score <= 57):\n",
        "    gwtg_prob_group = 3\n",
        "  elif (gwtg_score >= 58) & (gwtg_score <= 61):\n",
        "    gwtg_prob_group = 4\n",
        "  elif (gwtg_score >= 62) & (gwtg_score <= 65):\n",
        "    gwtg_prob_group = 5\n",
        "  elif (gwtg_score >= 66) & (gwtg_score <= 70):\n",
        "    gwtg_prob_group = 6\n",
        "  elif (gwtg_score >= 71) & (gwtg_score <= 74):\n",
        "    gwtg_prob_group = 7\n",
        "  elif (gwtg_score >= 75) & (gwtg_score <= 78):\n",
        "    gwtg_prob_group = 8\n",
        "  else:\n",
        "    gwtg_prob_group = 9\n",
        "\n",
        "  return gwtg_prob_group"
      ]
    },
    {
      "cell_type": "code",
      "execution_count": null,
      "metadata": {
        "id": "7ngwRnn2yxWw"
      },
      "outputs": [],
      "source": [
        "# def return_gwtg_bin_death(df):\n",
        "#     if df['gwtg_bin'] == 1:\n",
        "#         return 0\n",
        "#     elif df['gwtg_bin'] == 2:\n",
        "#         return 0\n",
        "#     elif df['gwtg_bin'] == 3:\n",
        "#         return 1\n",
        "#     elif df['gwtg_bin'] == 4:\n",
        "#         return 1\n",
        "#     elif df['gwtg_bin'] == 5:\n",
        "#         return 1\n",
        "#     elif df['gwtg_bin'] == 6:\n",
        "#         return 1\n",
        "#     elif df['gwtg_bin'] == 7:\n",
        "#         return 1\n",
        "#     elif df['gwtg_bin'] == 8:\n",
        "#         return 1\n",
        "#     else:\n",
        "#         return 1"
      ]
    },
    {
      "cell_type": "code",
      "execution_count": null,
      "metadata": {
        "id": "qS-k5eJoNTD9"
      },
      "outputs": [],
      "source": [
        "# def create_gwtg_bin_death(df):\n",
        "#     df['gwtg_bin_death'] = df.apply(return_gwtg_bin_death, axis=1)"
      ]
    },
    {
      "cell_type": "code",
      "execution_count": null,
      "metadata": {
        "id": "FBrS0qxXa6M1"
      },
      "outputs": [],
      "source": [
        "def create_gwtg_bin_label(df):\n",
        "    df['gwtg_bin'] = df.apply(calculate_gwtg_bin, axis=1)"
      ]
    },
    {
      "cell_type": "code",
      "execution_count": null,
      "metadata": {
        "id": "cjnzhiTkUznd"
      },
      "outputs": [],
      "source": [
        "def delete_gwtg_bin_label(df):\n",
        "    df.drop('gwtg_bin', inplace=True, axis=1, errors='ignore')"
      ]
    },
    {
      "cell_type": "code",
      "execution_count": null,
      "metadata": {
        "id": "BIwGSL9H-fYT"
      },
      "outputs": [],
      "source": [
        "def create_gwtg_bin_encoded(df):\n",
        "    df['gwtg_1'] = np.where(((df['gwtg_bin'] == 1)), 1, 0)\n",
        "    df['gwtg_2'] = np.where(((df['gwtg_bin'] == 2)), 1, 0)\n",
        "    df['gwtg_3'] = np.where(((df['gwtg_bin'] == 3)), 1, 0)\n",
        "    df['gwtg_4'] = np.where(((df['gwtg_bin'] == 4)), 1, 0)\n",
        "    df['gwtg_5'] = np.where(((df['gwtg_bin'] == 5)), 1, 0)\n",
        "    df['gwtg_6'] = np.where(((df['gwtg_bin'] == 6)), 1, 0)\n",
        "    df['gwtg_7'] = np.where(((df['gwtg_bin'] == 7)), 1, 0)\n",
        "    df['gwtg_8'] = np.where(((df['gwtg_bin'] == 8)), 1, 0)\n",
        "    df['gwtg_9'] = np.where(((df['gwtg_bin'] == 9)), 1, 0)"
      ]
    },
    {
      "cell_type": "code",
      "execution_count": null,
      "metadata": {
        "id": "MOadeNCq534O"
      },
      "outputs": [],
      "source": [
        "def create_gwtg_score(df):\n",
        "    df['gwtg_score'] = df.apply(calculate_gwtg_score, axis=1)"
      ]
    },
    {
      "cell_type": "code",
      "execution_count": null,
      "metadata": {
        "id": "EyclL9GTNMqj"
      },
      "outputs": [],
      "source": [
        "def delete_all_gwtg(df):\n",
        "    df.drop('gwtg_bin', inplace=True, axis=1, errors='ignore')\n",
        "    df.drop('gwtg_1', inplace=True, axis=1, errors='ignore')\n",
        "    df.drop('gwtg_2', inplace=True, axis=1, errors='ignore')\n",
        "    df.drop('gwtg_3', inplace=True, axis=1, errors='ignore')\n",
        "    df.drop('gwtg_4', inplace=True, axis=1, errors='ignore')\n",
        "    df.drop('gwtg_5', inplace=True, axis=1, errors='ignore')\n",
        "    df.drop('gwtg_6', inplace=True, axis=1, errors='ignore')\n",
        "    df.drop('gwtg_7', inplace=True, axis=1, errors='ignore')\n",
        "    df.drop('gwtg_8', inplace=True, axis=1, errors='ignore')\n",
        "    df.drop('gwtg_9', inplace=True, axis=1, errors='ignore')\n",
        "    df.drop('gwtg_score', inplace=True, axis=1, errors='ignore')"
      ]
    },
    {
      "cell_type": "markdown",
      "metadata": {
        "id": "gYwCLb3YE6C3"
      },
      "source": [
        "### Adhere score labeling"
      ]
    },
    {
      "cell_type": "code",
      "execution_count": null,
      "metadata": {
        "id": "5gUaFshxeMO1"
      },
      "outputs": [],
      "source": [
        "create_adhere_score(df_only_available_pacients)\n",
        "create_adhere_score(X_train_imputed)\n",
        "create_adhere_score(X_train_sm)\n",
        "create_adhere_score(X_test)\n",
        "create_adhere_score(X_all)\n",
        "\n",
        "create_adhere_bin_stats(X_test)\n",
        "create_adhere_bin_stats(X_all)\n",
        "\n",
        "create_adhere_label(X_all)"
      ]
    },
    {
      "cell_type": "markdown",
      "metadata": {
        "id": "T5AJNOuiE9B3"
      },
      "source": [
        "### GWTG score labeling"
      ]
    },
    {
      "cell_type": "code",
      "execution_count": null,
      "metadata": {
        "id": "kR5aE8F36RZA"
      },
      "outputs": [],
      "source": [
        "create_gwtg_score(df_only_available_pacients)\n",
        "create_gwtg_score(X_train_imputed)\n",
        "create_gwtg_score(X_train_sm)\n",
        "create_gwtg_score(X_test)\n",
        "\n",
        "create_gwtg_score(X_all)"
      ]
    },
    {
      "cell_type": "code",
      "execution_count": null,
      "metadata": {
        "id": "jlO-uZEqVNQX"
      },
      "outputs": [],
      "source": [
        "create_gwtg_bin_label(df_only_available_pacients)\n",
        "create_gwtg_bin_label(X_train_imputed)\n",
        "create_gwtg_bin_label(X_train_sm)\n",
        "create_gwtg_bin_label(X_test)\n",
        "# create_gwtg_bin_label(X_test_sm)"
      ]
    },
    {
      "cell_type": "code",
      "execution_count": null,
      "metadata": {
        "id": "QmT5tUMCVOUE"
      },
      "outputs": [],
      "source": [
        "create_gwtg_bin_encoded(df_only_available_pacients)\n",
        "create_gwtg_bin_encoded(X_train_imputed)\n",
        "create_gwtg_bin_encoded(X_train_sm)\n",
        "create_gwtg_bin_encoded(X_test)\n",
        "# create_gwtg_bin_encoded(X_test_sm)"
      ]
    },
    {
      "cell_type": "code",
      "execution_count": null,
      "metadata": {
        "id": "Deu5neliVPTk"
      },
      "outputs": [],
      "source": [
        "delete_gwtg_bin_label(df_only_available_pacients)\n",
        "delete_gwtg_bin_label(X_train_imputed)\n",
        "delete_gwtg_bin_label(X_train_sm)\n",
        "delete_gwtg_bin_label(X_test)\n",
        "# delete_gwtg_bin_label(X_test_sm)"
      ]
    },
    {
      "cell_type": "markdown",
      "metadata": {
        "id": "VsBADmd2At9F"
      },
      "source": [
        "### Scores sanity check"
      ]
    },
    {
      "cell_type": "code",
      "execution_count": null,
      "metadata": {
        "id": "R-J5BXdXAxsw"
      },
      "outputs": [],
      "source": [
        "# df['invalid_adhere'] = df.apply(lambda x: x.adhere_low == x.adhere_int1 == x.adhere_int2 == x.adhere_int3 == x.adhere_high, axis=1)"
      ]
    },
    {
      "cell_type": "code",
      "execution_count": null,
      "metadata": {
        "id": "nX_QSUC7B9GQ"
      },
      "outputs": [],
      "source": [
        "# df['invalid_adhere'].value_counts()"
      ]
    },
    {
      "cell_type": "code",
      "execution_count": null,
      "metadata": {
        "id": "zXUcest0CEfj"
      },
      "outputs": [],
      "source": [
        "# df['invalid_gwtg'] = df.apply(lambda x: x.gwtg_1 == x.gwtg_2 == x.gwtg_3 == x.gwtg_4 == x.gwtg_5 == x.gwtg_6 == x.gwtg_7 == x.gwtg_8 == x.gwtg_9, axis=1)"
      ]
    },
    {
      "cell_type": "code",
      "execution_count": null,
      "metadata": {
        "id": "o91vfRwaCElD"
      },
      "outputs": [],
      "source": [
        "# df['invalid_gwtg'].value_counts()"
      ]
    },
    {
      "cell_type": "markdown",
      "metadata": {
        "id": "vYr08WacQx47"
      },
      "source": [
        "## Data normalization (disabled)"
      ]
    },
    {
      "cell_type": "code",
      "execution_count": null,
      "metadata": {
        "id": "mzcRILAo0Bc1"
      },
      "outputs": [],
      "source": [
        "# from sklearn.preprocessing import MinMaxScaler\n",
        "# scaler = MinMaxScaler()"
      ]
    },
    {
      "cell_type": "code",
      "execution_count": null,
      "metadata": {
        "id": "nyh5IpGo0Gd2"
      },
      "outputs": [],
      "source": [
        "# X_train_scaled = pd.DataFrame(scaler.fit_transform(X_train_sm), columns = X_train_sm.columns)"
      ]
    },
    {
      "cell_type": "code",
      "execution_count": null,
      "metadata": {
        "id": "NG4kDpyS0MgW"
      },
      "outputs": [],
      "source": [
        "# X_test_scaled = pd.DataFrame(scaler.transform(X_test), columns = X_test.columns)"
      ]
    },
    {
      "cell_type": "code",
      "execution_count": null,
      "metadata": {
        "id": "Bu1EWCTzp77F"
      },
      "outputs": [],
      "source": [
        "# from sklearn.preprocessing import MinMaxScaler\n",
        "\n",
        "# scaler = MinMaxScaler(feature_range=(0, 1))\n",
        "# # X_train_scaled = pd.DataFrame(scaler.fit_transform(X_train_sm), columns = X_train_sm.columns)\n",
        "\n",
        "# # X_train_scaled = pd.DataFrame(scaler.fit_transform(X_train), columns = X_train.columns)\n",
        "\n",
        "# # X_train_scaled = X_train\n",
        "# # X_train_sm[['admission_age', 'height', 'weight', 'sbp_mean', 'dbp_mean', 'mbp_mean', 'resp_rate_mean', 'temperature_mean', 'spo2_mean', 'magnesium_min', 'urineoutput', 'hematocrit_max', 'wbc_max', 'platelets_max', 'abs_neutrophils_max', 'abs_basophils_max', 'abs_lymphocytes_max', 'pt_max', 'ptt_max', 'ck_cpk_max', 'creatinine_max', 'bun_max', 'glucose_max', 'potassium_max', 'sodium_max', 'calcium_max', 'chloride_max', 'aniongap_max', 'ph_min', 'bicarbonate_min', 'lactate_max', 'pco2_max', 'heart_rate_max']] = scaler.fit_transform(X_train_sm[['admission_age', 'height', 'weight', 'sbp_mean', 'dbp_mean', 'mbp_mean', 'resp_rate_mean', 'temperature_mean', 'spo2_mean', 'magnesium_min', 'urineoutput', 'hematocrit_max', 'wbc_max', 'platelets_max', 'abs_neutrophils_max', 'abs_basophils_max', 'abs_lymphocytes_max', 'pt_max', 'ptt_max', 'ck_cpk_max', 'creatinine_max', 'bun_max', 'glucose_max', 'potassium_max', 'sodium_max', 'calcium_max', 'chloride_max', 'aniongap_max', 'ph_min', 'bicarbonate_min', 'lactate_max', 'pco2_max', 'heart_rate_max']])\n",
        "# # X_train_sm[['admission_age', 'weight', 'sbp_mean', 'dbp_mean', 'mbp_mean', 'resp_rate_mean', 'temperature_mean', 'spo2_mean', 'magnesium_min', 'urineoutput', 'hematocrit_max', 'wbc_max', 'platelets_max', 'pt_max', 'ptt_max', 'creatinine_max', 'bun_max', 'glucose_max', 'potassium_max', 'sodium_max', 'calcium_max', 'chloride_max', 'aniongap_max', 'bicarbonate_min', 'heart_rate_max']] = scaler.fit_transform(X_train_sm[['admission_age', 'weight', 'sbp_mean', 'dbp_mean', 'mbp_mean', 'resp_rate_mean', 'temperature_mean', 'spo2_mean', 'magnesium_min', 'urineoutput', 'hematocrit_max', 'wbc_max', 'platelets_max', 'pt_max', 'ptt_max', 'creatinine_max', 'bun_max', 'glucose_max', 'potassium_max', 'sodium_max', 'calcium_max', 'chloride_max', 'aniongap_max', 'bicarbonate_min', 'heart_rate_max']])"
      ]
    },
    {
      "cell_type": "code",
      "execution_count": null,
      "metadata": {
        "id": "YcLEx3A_RL-T"
      },
      "outputs": [],
      "source": [
        "# # X_test_scaled = pd.DataFrame(scaler.transform(X_test_sm), columns = X_test_sm.columns)\n",
        "# # X_test_sm[['admission_age', 'weight', 'sbp_mean', 'dbp_mean', 'mbp_mean', 'resp_rate_mean', 'temperature_mean', 'spo2_mean', 'magnesium_min', 'urineoutput', 'hematocrit_max', 'wbc_max', 'platelets_max', 'pt_max', 'ptt_max', 'creatinine_max', 'bun_max', 'glucose_max', 'potassium_max', 'sodium_max', 'calcium_max', 'chloride_max', 'aniongap_max', 'bicarbonate_min', 'heart_rate_max']] = scaler.fit_transform(X_test_sm[['admission_age', 'weight', 'sbp_mean', 'dbp_mean', 'mbp_mean', 'resp_rate_mean', 'temperature_mean', 'spo2_mean', 'magnesium_min', 'urineoutput', 'hematocrit_max', 'wbc_max', 'platelets_max', 'pt_max', 'ptt_max', 'creatinine_max', 'bun_max', 'glucose_max', 'potassium_max', 'sodium_max', 'calcium_max', 'chloride_max', 'aniongap_max', 'bicarbonate_min', 'heart_rate_max']])"
      ]
    },
    {
      "cell_type": "code",
      "execution_count": null,
      "metadata": {
        "id": "0vS4rmw93Q83"
      },
      "outputs": [],
      "source": [
        "# To override data normalization\n",
        "X_train_scaled = X_train_sm.copy()\n",
        "X_test_scaled = X_test.copy()"
      ]
    },
    {
      "cell_type": "markdown",
      "metadata": {
        "id": "2B27NSMj5-eg"
      },
      "source": [
        "## Data verification"
      ]
    },
    {
      "cell_type": "code",
      "execution_count": null,
      "metadata": {
        "id": "KPAmiXV92dqt"
      },
      "outputs": [],
      "source": [
        "# Verifying scores\n",
        "\n",
        "# To print the specific row:\n",
        "# print(df_only_available_pacients.iloc[1])\n",
        "\n",
        "# To check the calculated score, change the number to the specific row of the spreadsheet, beggining with row 0. ie: first row = 0, second row = 1...\n",
        "# print(calculate_gwtg_score(df_only_available_pacients.iloc[1]))"
      ]
    },
    {
      "cell_type": "markdown",
      "metadata": {
        "id": "2mxY3TbFOo2l"
      },
      "source": [
        "## Data exporting"
      ]
    },
    {
      "cell_type": "code",
      "execution_count": null,
      "metadata": {
        "id": "ilKEojfp8Bh1"
      },
      "outputs": [],
      "source": [
        "from google.colab import drive\n",
        "\n",
        "X_train_imputed['train'] = 1\n",
        "X_train_imputed['test'] = 0\n",
        "\n",
        "X_train_scaled['train'] = 1\n",
        "X_train_scaled['test'] = 0\n",
        "\n",
        "X_test['train'] = 0\n",
        "X_test['test'] = 1\n",
        "\n",
        "# TO DO: df_imputed, incluir escores e colunas de treino e teste; juntar com o mesmo df_test;\n",
        "df_imputed_train = X_train_imputed.join(y_train)\n",
        "df_imputed_test = X_test_imputed.join(y_test)\n",
        "df_imputed_full = pd.concat([df_imputed_train, df_imputed_test])\n",
        "\n",
        "df_resampled_train = X_train_scaled.join(y_train_sm)\n",
        "df_resampled_test = X_test.join(y_test)\n",
        "df_resampled_full = pd.concat([df_resampled_train, df_resampled_test])"
      ]
    },
    {
      "cell_type": "code",
      "execution_count": null,
      "metadata": {
        "id": "4jr4jZHmOqob"
      },
      "outputs": [],
      "source": [
        "# df_raw.to_excel('df_raw.xlsx', index=False)\n",
        "# df_only_available_pacients.to_excel('df_raw_with_scores.xlsx', index=False)\n",
        "# df_imputed_full.to_excel('df_imputed.xlsx', index=False)\n",
        "# df_resampled_full.to_excel('df_resampled_13072023.xlsx', index=False)"
      ]
    },
    {
      "cell_type": "code",
      "execution_count": null,
      "metadata": {
        "id": "Gf_RYgftjjun"
      },
      "outputs": [],
      "source": [
        "# files.download('df_raw.xlsx')\n",
        "# files.download('df_raw_with_scores.xlsx')\n",
        "# files.download('df_imputed.xlsx')\n",
        "# files.download('df_resampled_13072023.xlsx')"
      ]
    },
    {
      "cell_type": "code",
      "execution_count": null,
      "metadata": {
        "id": "n5Q9XpF-sxPe"
      },
      "outputs": [],
      "source": [
        "# To save test split scores before dropping it\n",
        "\n",
        "X_test_adhere_scores = X_test['adhere_score'].to_numpy()\n",
        "X_test_gwtg_scores = X_test['gwtg_score'].to_numpy()"
      ]
    },
    {
      "cell_type": "markdown",
      "metadata": {
        "id": "DMO8zwG9_Jwc"
      },
      "source": [
        "### Patient data tables"
      ]
    },
    {
      "cell_type": "code",
      "execution_count": null,
      "metadata": {
        "id": "zLh7QCdb0byj"
      },
      "outputs": [],
      "source": [
        "# Configurations for the Tableone library\n",
        "# Ref: https://pypi.org/project/tableone/\n",
        "\n",
        "try:\n",
        "   import tableone\n",
        "except ModuleNotFoundError:\n",
        "   print(\"module 'tableone' is not installed\")\n",
        "   !pip install tableone\n",
        "\n",
        "import tableone\n",
        "from tableone import TableOne"
      ]
    },
    {
      "cell_type": "code",
      "execution_count": null,
      "metadata": {
        "id": "qCSGCgY_0fSt"
      },
      "outputs": [],
      "source": [
        "# # Ref: https://github.com/tompollard/tableone/blob/main/tableone.ipynb\n",
        "\n",
        "# columns = ['admission_age', 'race_white', 'gender_male', 'height', 'weight', 'sbp_mean', 'creatinine_max', 'bun_max', 'temperature_mean', 'hospital_death']\n",
        "# groupby = 'hospital_death'\n",
        "# nonnormal = ['age']\n",
        "# categorical = ['race_white', 'gender_male']\n",
        "\n",
        "# table1 = TableOne(df, columns=columns, categorical=categorical,\n",
        "#                    groupby=groupby, nonnormal=nonnormal, pval=True, smd=True,\n",
        "#                   htest_name=True)"
      ]
    },
    {
      "cell_type": "code",
      "execution_count": null,
      "metadata": {
        "id": "2IymTS071TmC"
      },
      "outputs": [],
      "source": [
        "# table1"
      ]
    },
    {
      "cell_type": "code",
      "execution_count": null,
      "metadata": {
        "id": "5QWeYd_Fi-Xj"
      },
      "outputs": [],
      "source": [
        "# columns = ['adhere_low', 'adhere_int1', 'adhere_int2', 'adhere_int3', 'adhere_high', 'hospital_death']\n",
        "# groupby = 'hospital_death'\n",
        "# labels={'hospital_death': 'Mortality'}\n",
        "\n",
        "# table2 = TableOne(df, columns=columns, rename=labels,\n",
        "#                    groupby=groupby)"
      ]
    },
    {
      "cell_type": "code",
      "execution_count": null,
      "metadata": {
        "id": "TX7SprNdlF8_"
      },
      "outputs": [],
      "source": [
        "# table2"
      ]
    },
    {
      "cell_type": "code",
      "execution_count": null,
      "metadata": {
        "id": "g-gVfKR7438p"
      },
      "outputs": [],
      "source": [
        "X_all.columns"
      ]
    },
    {
      "cell_type": "code",
      "execution_count": null,
      "metadata": {
        "id": "flve1m2SbJDY"
      },
      "outputs": [],
      "source": [
        "columns = ['admission_age', 'height', 'weight', 'sbp_mean', 'dbp_mean', 'mbp_mean',\n",
        "       'resp_rate_mean', 'temperature_mean', 'spo2_mean', 'urineoutput',\n",
        "       'hematocrit_max', 'hemoglobin_max', 'wbc_max', 'platelets_max',\n",
        "       'abs_neutrophils_max', 'abs_basophils_max', 'abs_lymphocytes_max',\n",
        "       'pt_max', 'inr_max', 'ptt_max', 'ck_cpk_max', 'creatinine_max',\n",
        "       'bun_max', 'glucose_max', 'potassium_max', 'sodium_max', 'calcium_max',\n",
        "       'chloride_max', 'aniongap_max', 'ph_min', 'bicarbonate_min',\n",
        "       'magnesium_min', 'lactate_max', 'pco2_max', 'gender_male', 'race_black',\n",
        "       'hospital_death', 'chronic_pulmonary_disease', 'diabetes_without_cc',\n",
        "       'renal_disease', 'myocardial_infarct', 'peripheral_vascular_disease',\n",
        "       'cerebrovascular_disease', 'heart_rate_max', 'mch_max', 'mchc_max',\n",
        "       'mcv_max', 'ntprobnp_max', 'adhere_class', 'gwtg_score']\n",
        "groupby = ['hospital_death']\n",
        "labels={'hospital_death': 'Mortality'}\n",
        "nonnormal = ['admission_age']\n",
        "categorical = ['race_black', 'chronic_pulmonary_disease', 'diabetes_without_cc',\n",
        "       'renal_disease', 'myocardial_infarct', 'peripheral_vascular_disease',\n",
        "       'cerebrovascular_disease','adhere_class']\n",
        "\n",
        "# # limit the binary variable \"death\" to a single row\n",
        "# limit = {\"death\": 1}\n",
        "\n",
        "# # set the order of the categorical variables\n",
        "# order = {\"ICU\": [\"MICU\", \"SICU\", \"CSRU\", \"CCU\"]}\n",
        "\n",
        "# # set decimal places for age to 0\n",
        "decimals = {\"admission_age\": 0}\n",
        "\n",
        "# # rename the death column\n",
        "# labels={'death': 'Mortality'}\n",
        "\n",
        "# # display minimum and maximum for listed variables\n",
        "min_max = ['magnesium_min']\n",
        "\n",
        "\n",
        "table1 = TableOne(X_all, columns=columns, categorical=categorical, rename=labels,\n",
        "                   groupby=groupby, decimals=decimals, nonnormal=nonnormal, min_max=min_max, pval=True, smd=True,\n",
        "                  htest_name=True)"
      ]
    },
    {
      "cell_type": "code",
      "execution_count": null,
      "metadata": {
        "id": "OngU8Uu6cwfP"
      },
      "outputs": [],
      "source": [
        "table1"
      ]
    },
    {
      "cell_type": "code",
      "execution_count": null,
      "metadata": {
        "id": "_HpTL-V1hBzX"
      },
      "outputs": [],
      "source": [
        "## Save to Excel\n",
        "# fn1 = 'tableone.xlsx'\n",
        "# table1.to_excel(fn1)"
      ]
    },
    {
      "cell_type": "markdown",
      "metadata": {
        "id": "IMnpWAIZn8t8"
      },
      "source": [
        "# Machine learning experiments"
      ]
    },
    {
      "cell_type": "code",
      "execution_count": null,
      "metadata": {
        "id": "CdSdiVnNYxN_"
      },
      "outputs": [],
      "source": [
        "# Data cleaning before further manipulation\n",
        "\n",
        "label_list = ['train', 'test']\n",
        "\n",
        "X_train_scaled.drop(label_list, inplace=True, axis=1, errors='ignore')\n",
        "X_test.drop(label_list, inplace=True, axis=1, errors='ignore')\n",
        "\n",
        "scores_columns = ['adhere_score', 'adhere_low', 'adhere_int1', 'adhere_int2', 'adhere_int3', 'adhere_high', 'gwtg_1', 'gwtg_2', 'gwtg_3', 'gwtg_4', 'gwtg_5', 'gwtg_6', 'gwtg_7', 'gwtg_8', 'gwtg_9', 'gwtg_score']\n",
        "\n",
        "X_train_scaled.drop(scores_columns, axis=1, inplace=True, errors='ignore')\n",
        "X_test.drop(scores_columns, axis=1, inplace=True, errors='ignore')"
      ]
    },
    {
      "cell_type": "markdown",
      "metadata": {
        "id": "TwZrjSSEswOf"
      },
      "source": [
        "## Feature selection"
      ]
    },
    {
      "cell_type": "code",
      "execution_count": null,
      "metadata": {
        "id": "7OFwwZDNMRKP"
      },
      "outputs": [],
      "source": [
        "# Added to test_sm for feature selection\n",
        "\n",
        "# delete_all_adhere(X_train_scaled)\n",
        "# delete_all_adhere(X_test_scaled)\n",
        "delete_all_adhere(X_test)\n",
        "\n",
        "# delete_all_gwtg(X_train_scaled)\n",
        "# delete_all_gwtg(X_test_scaled)\n",
        "delete_all_gwtg(X_test)"
      ]
    },
    {
      "cell_type": "code",
      "execution_count": null,
      "metadata": {
        "id": "hy1yzi6NsyR2"
      },
      "outputs": [],
      "source": [
        "from sklearn.feature_selection import SelectKBest\n",
        "from sklearn.feature_selection import chi2\n",
        "\n",
        "selector = SelectKBest(chi2, k=3).fit(X_train_scaled, y_train_sm)\n",
        "X_train_best3feat = selector.transform(X_train_scaled)\n",
        "# X_test_best3feat = selector.transform(X_test_scaled)"
      ]
    },
    {
      "cell_type": "code",
      "execution_count": null,
      "metadata": {
        "id": "rhg4f7rqtCe0"
      },
      "outputs": [],
      "source": [
        "names = X_train_scaled.columns.values[selector.get_support()]\n",
        "scores = selector.scores_[selector.get_support()]\n",
        "names_scores = list(zip(names, scores))\n",
        "ns_df = pd.DataFrame(data = names_scores, columns=['Feat_names', 'F_Scores'])\n",
        "#Sort the dataframe for better visualization\n",
        "ns_df_sorted = ns_df.sort_values(['F_Scores', 'Feat_names'], ascending = [False, True])\n",
        "print(ns_df_sorted)"
      ]
    },
    {
      "cell_type": "code",
      "execution_count": null,
      "metadata": {
        "id": "u57wcZiSIDPi"
      },
      "outputs": [],
      "source": [
        "X_test_best3feat = X_test_imputed[names]"
      ]
    },
    {
      "cell_type": "code",
      "execution_count": null,
      "metadata": {
        "id": "JDQtXWkXwpBa"
      },
      "outputs": [],
      "source": [
        "selector = SelectKBest(chi2, k=7).fit(X_train_scaled, y_train_sm)\n",
        "X_train_best7feat = selector.transform(X_train_scaled)\n",
        "# X_test_best7feat = selector.transform(X_test_scaled)"
      ]
    },
    {
      "cell_type": "code",
      "execution_count": null,
      "metadata": {
        "id": "CfcBU25dwsy5"
      },
      "outputs": [],
      "source": [
        "names = X_train_scaled.columns.values[selector.get_support()]\n",
        "scores = selector.scores_[selector.get_support()]\n",
        "names_scores = list(zip(names, scores))\n",
        "ns_df = pd.DataFrame(data = names_scores, columns=['Feat_names', 'F_Scores'])\n",
        "#Sort the dataframe for better visualization\n",
        "ns_df_sorted = ns_df.sort_values(['F_Scores', 'Feat_names'], ascending = [False, True])\n",
        "print(ns_df_sorted)"
      ]
    },
    {
      "cell_type": "code",
      "execution_count": null,
      "metadata": {
        "id": "O7-YyPFIJKEY"
      },
      "outputs": [],
      "source": [
        "X_test_best7feat = X_test_imputed[names]"
      ]
    },
    {
      "cell_type": "markdown",
      "metadata": {
        "id": "n1z_aIw-8Uki"
      },
      "source": [
        "## Model selection and evaluation"
      ]
    },
    {
      "cell_type": "code",
      "execution_count": null,
      "metadata": {
        "id": "rtYGsepdxMhF"
      },
      "outputs": [],
      "source": [
        "# from sklearn.preprocessing import MinMaxScaler\n",
        "# from sklearn.compose import ColumnTransformer\n",
        "# from sklearn.pipeline import Pipeline\n",
        "\n",
        "# numeric_features = ['admission_age', 'weight', 'sbp_mean', 'dbp_mean', 'mbp_mean', 'resp_rate_mean', 'temperature_mean', 'spo2_mean', 'magnesium_min', 'urineoutput', 'hematocrit_max', 'wbc_max', 'platelets_max', 'pt_max', 'ptt_max', 'creatinine_max', 'bun_max', 'glucose_max', 'potassium_max', 'sodium_max', 'calcium_max', 'chloride_max', 'aniongap_max', 'bicarbonate_min', 'heart_rate_max']\n",
        "# numeric_transformer = Pipeline(steps=['scaler', MinMaxScaler()])\n",
        "\n",
        "# categorical_features = ['race_black', 'chronic_pulmonary_disease']\n",
        "# categorical_transformer = Pipeline(steps=[])\n",
        "\n",
        "# preprocessor = ColumnTransformer(\n",
        "#     transformers=[\n",
        "#         ('num', numeric_transformer, numeric_features),\n",
        "#         ('cat', categorical_transformer, categorical_features)])"
      ]
    },
    {
      "cell_type": "code",
      "execution_count": null,
      "metadata": {
        "id": "v5GYeRkJ4PgQ"
      },
      "outputs": [],
      "source": [
        "# Build a pipeline for training\n",
        "from sklearn.pipeline import Pipeline\n",
        "\n",
        "# # gradient boosting - Ref: https://github.com/dmlc/xgboost\n",
        "import xgboost as xgb\n",
        "\n",
        "opt = Pipeline(\n",
        "    steps=[\n",
        "        # ('preprocessor', preprocessor),\n",
        "        (\"clf\", xgb.XGBClassifier(learning_rate=0.1, max_depth=9 , n_estimators=180))\n",
        "        ]\n",
        "#   steps=[(\"clf\", xgb.XGBClassifier(max_depth=3, n_estimators=300, learning_rate=0.05))]\n",
        ")"
      ]
    },
    {
      "cell_type": "markdown",
      "metadata": {
        "id": "iucA9oBBJXP8"
      },
      "source": [
        "## Cross-validation to evaluate estimator performance"
      ]
    },
    {
      "cell_type": "code",
      "execution_count": null,
      "metadata": {
        "id": "5S6IUQNnJ7T4"
      },
      "outputs": [],
      "source": [
        "# # define data_dmatrix\n",
        "# data_dmatrix = xgb.DMatrix(data=X_train_scaled,label=y_train_sm)"
      ]
    },
    {
      "cell_type": "code",
      "execution_count": null,
      "metadata": {
        "id": "qRn2jh_0JagB"
      },
      "outputs": [],
      "source": [
        "# from xgboost import cv\n",
        "\n",
        "# params = {\"objective\":\"binary:logistic\",'colsample_bytree': 0.3,'learning_rate': 0.1,\n",
        "#                 'max_depth': 5, 'alpha': 10}\n",
        "\n",
        "# xgb_cv_5_folds = cv(dtrain=data_dmatrix, params=params, nfold=5,\n",
        "#                     num_boost_round=50, early_stopping_rounds=10, metrics=\"auc\", as_pandas=True, seed=seed)\n",
        "\n",
        "# xgb_cv_10_folds = cv(dtrain=data_dmatrix, params=params, nfold=10,\n",
        "#                     num_boost_round=50, early_stopping_rounds=10, metrics=\"auc\", as_pandas=True, seed=seed)"
      ]
    },
    {
      "cell_type": "code",
      "execution_count": null,
      "metadata": {
        "id": "hR09ZTsCKQSk"
      },
      "outputs": [],
      "source": [
        "# xgb_cv_5_folds.head()"
      ]
    },
    {
      "cell_type": "code",
      "execution_count": null,
      "metadata": {
        "id": "3iOiHvaXfpmA"
      },
      "outputs": [],
      "source": [
        "# xgb_cv_10_folds.head()"
      ]
    },
    {
      "cell_type": "markdown",
      "metadata": {
        "id": "WJUPzXSwrMnN"
      },
      "source": [
        "## Tuning the hyper-parameters of the estimator"
      ]
    },
    {
      "cell_type": "code",
      "execution_count": null,
      "metadata": {
        "id": "DAbx78kA-WUS"
      },
      "outputs": [],
      "source": [
        "# estimator = xgb.XGBClassifier(learning_rate=0.1, max_depth=9 , n_estimators=180)"
      ]
    },
    {
      "cell_type": "code",
      "execution_count": null,
      "metadata": {
        "id": "iT22S6t0-aRb"
      },
      "outputs": [],
      "source": [
        "# parameters = {\n",
        "#     'max_depth': range (2, 10, 1),\n",
        "#     'n_estimators': range(60, 220, 40),\n",
        "#     'learning_rate': [0.1, 0.01, 0.05]\n",
        "# }"
      ]
    },
    {
      "cell_type": "code",
      "execution_count": null,
      "metadata": {
        "id": "f1Ac23Qd-cNY"
      },
      "outputs": [],
      "source": [
        "# from sklearn.model_selection import GridSearchCV\n",
        "\n",
        "# grid_search = GridSearchCV(\n",
        "#     estimator=estimator,\n",
        "#     param_grid=parameters,\n",
        "#     scoring = 'roc_auc',\n",
        "#     n_jobs = -1,\n",
        "#     cv = 5,\n",
        "#     verbose=True\n",
        "# )"
      ]
    },
    {
      "cell_type": "code",
      "execution_count": null,
      "metadata": {
        "id": "7JVO1WKh-cuN"
      },
      "outputs": [],
      "source": [
        "# opt = grid_search"
      ]
    },
    {
      "cell_type": "markdown",
      "metadata": {
        "id": "K8UWoi0CY7jw"
      },
      "source": [
        "## Metrics and scoring"
      ]
    },
    {
      "cell_type": "markdown",
      "metadata": {
        "id": "JyQ7Jr_1yXEy"
      },
      "source": [
        "### XGB model fitted with all variables"
      ]
    },
    {
      "cell_type": "code",
      "execution_count": null,
      "metadata": {
        "id": "iKaUNsGmPdYd"
      },
      "outputs": [],
      "source": [
        "# Quick change to test influence of a certain feature\n",
        "# X_train_scaled.drop([''], inplace=True, axis=1, errors='ignore')\n",
        "# X_test.drop([''], inplace=True, axis=1, errors='ignore')"
      ]
    },
    {
      "cell_type": "code",
      "execution_count": null,
      "metadata": {
        "id": "Qf02jj2PPtTJ"
      },
      "outputs": [],
      "source": [
        "# X_train_scaled.columns"
      ]
    },
    {
      "cell_type": "code",
      "execution_count": null,
      "metadata": {
        "id": "gCRXVeOoPuoB"
      },
      "outputs": [],
      "source": [
        "# X_test.columns"
      ]
    },
    {
      "cell_type": "code",
      "execution_count": null,
      "metadata": {
        "id": "4kYgL4iAjaiL"
      },
      "outputs": [],
      "source": [
        "# define the datasets to evaluate each iteration\n",
        "evalset = [(X_train_scaled, y_train_sm), (X_test, y_test)]"
      ]
    },
    {
      "cell_type": "code",
      "execution_count": null,
      "metadata": {
        "id": "dugOBLtL4eXf"
      },
      "outputs": [],
      "source": [
        "opt.fit(X_train_scaled, y_train_sm, clf__eval_metric=['logloss','error'], clf__eval_set=evalset)"
      ]
    },
    {
      "cell_type": "code",
      "execution_count": null,
      "metadata": {
        "id": "HONU1SvEwP3C"
      },
      "outputs": [],
      "source": [
        "# opt.best_estimator_"
      ]
    },
    {
      "cell_type": "code",
      "execution_count": null,
      "metadata": {
        "id": "pVHcrgwWwRPU"
      },
      "outputs": [],
      "source": [
        "# print(\"Best parameter (CV score=%0.3f):\" % opt.best_score_)"
      ]
    },
    {
      "cell_type": "code",
      "execution_count": null,
      "metadata": {
        "id": "guYhnSg2ah6w"
      },
      "outputs": [],
      "source": [
        "# print(opt.best_params_)"
      ]
    },
    {
      "cell_type": "code",
      "execution_count": null,
      "metadata": {
        "id": "yi8FDm3BwSx3"
      },
      "outputs": [],
      "source": [
        "opt.score(X_test_imputed, y_test)"
      ]
    },
    {
      "cell_type": "code",
      "execution_count": null,
      "metadata": {
        "id": "5RjFY30KwUMS"
      },
      "outputs": [],
      "source": [
        "# predict probabilities to be used for roc curve\n",
        "pred_xgb = opt.predict(X_test_imputed)\n",
        "pred_prob_xgb = opt.predict_proba(X_test_imputed)"
      ]
    },
    {
      "cell_type": "code",
      "execution_count": null,
      "metadata": {
        "id": "iWsOz7Zxa22G"
      },
      "outputs": [],
      "source": [
        "# # export grid search results\n",
        "# gs = pd.DataFrame(opt.cv_results_)\n",
        "# #gs = df.sort_values(\"rank_test_score\")\n",
        "# gs.to_csv(\"cv_results.csv\", index = False)\n",
        "# files.download('cv_results.csv')"
      ]
    },
    {
      "cell_type": "code",
      "execution_count": null,
      "metadata": {
        "id": "N1ZvUNaSj4Qr"
      },
      "outputs": [],
      "source": [
        "# retrieve performance metrics\n",
        "results = opt.named_steps.clf.evals_result()\n",
        "# plot learning curves\n",
        "plt.plot(results['validation_0']['logloss'], label='train')\n",
        "plt.plot(results['validation_1']['logloss'], label='test')\n",
        "# show the legend\n",
        "plt.legend()\n",
        "# show the plot\n",
        "plt.show()"
      ]
    },
    {
      "cell_type": "code",
      "execution_count": null,
      "metadata": {
        "id": "Kxp8D-YH6F2H"
      },
      "outputs": [],
      "source": [
        "epochs = len(results[\"validation_0\"][\"error\"])\n",
        "x_axis = range(0, epochs)\n",
        "\n",
        "fig, ax = plt.subplots(figsize=(12,12))\n",
        "ax.plot(x_axis, results[\"validation_0\"][\"error\"], label=\"Train\")\n",
        "ax.plot(x_axis, results[\"validation_1\"][\"error\"], label=\"Test\")\n",
        "ax.legend()\n",
        "plt.ylabel(\"Classification Error\")\n",
        "plt.title(\"XGBoost Classification Error\")\n",
        "plt.show()"
      ]
    },
    {
      "cell_type": "markdown",
      "metadata": {
        "id": "vVjkTFpqu1GX"
      },
      "source": [
        "##### Tree visualization"
      ]
    },
    {
      "cell_type": "code",
      "execution_count": null,
      "metadata": {
        "id": "SRxDBhsuu6vW"
      },
      "outputs": [],
      "source": [
        "fig, ax = plt.subplots(figsize=(30, 30))\n",
        "xgb.plot_tree(opt.named_steps['clf'], num_trees=0, rankdir='LR', ax=ax)\n",
        "plt.show()"
      ]
    },
    {
      "cell_type": "markdown",
      "metadata": {
        "id": "kEO4mj_GKU8O"
      },
      "source": [
        "#### Feature importance from XGBoost"
      ]
    },
    {
      "cell_type": "markdown",
      "metadata": {
        "id": "arS57H05u8WZ"
      },
      "source": [
        "##### Xgboost Built-in Feature Importance"
      ]
    },
    {
      "cell_type": "code",
      "execution_count": null,
      "metadata": {
        "id": "tN19XaxTABID"
      },
      "outputs": [],
      "source": [
        "feature_names = opt.named_steps['clf'].get_booster().feature_names"
      ]
    },
    {
      "cell_type": "code",
      "execution_count": null,
      "metadata": {
        "id": "3DQMbfsNcmK9"
      },
      "outputs": [],
      "source": [
        "feature_names"
      ]
    },
    {
      "cell_type": "code",
      "execution_count": null,
      "metadata": {
        "id": "o6rNZ-i8AuAx"
      },
      "outputs": [],
      "source": [
        "feature_names_renamed = ['Age', 'Weight', 'SBP', 'DBP', 'MBP', 'RR', 'Temperature', 'SpO2', 'Magnesium', 'Urine output', 'Hematocrit', 'WBC', 'Platelets', 'PT', 'PTT', 'Creatinine', 'BUN', 'Glucose', 'Potassium', 'Sodium', 'Calcium', 'Chloride', 'Anion gap', 'Bicarbonate', 'HR', 'Black race', 'COPD']"
      ]
    },
    {
      "cell_type": "code",
      "execution_count": null,
      "metadata": {
        "id": "5mOPuONVBEV6"
      },
      "outputs": [],
      "source": [
        "opt.named_steps['clf'].get_booster().feature_names = feature_names_renamed"
      ]
    },
    {
      "cell_type": "code",
      "execution_count": null,
      "metadata": {
        "id": "pKZHEk-t_87C"
      },
      "outputs": [],
      "source": [
        "# Renaming columns\n",
        "\n",
        "# X_train_scaled = X_train_scaled.rename(mapper={'admission_age': 'Age', 'height': 'Height', 'weight': 'Weight', 'sbp_mean': 'Systolic blood pressure', 'dbp_mean': 'Diastolic blood pressure', 'mbp_mean': 'Mean blood pressure', 'resp_rate_mean': 'Respiratory rate'},\n",
        "#                 axis='columns')"
      ]
    },
    {
      "cell_type": "code",
      "execution_count": null,
      "metadata": {
        "id": "jXVEY5q9KScl"
      },
      "outputs": [],
      "source": [
        "# xgb.plot_importance(opt.named_steps['clf'], importance_type='weight', title='Xgboost Built-in Feature Importance type weight')\n",
        "# plt.figure(figsize = (16, 12))\n",
        "# plt.show()"
      ]
    },
    {
      "cell_type": "code",
      "execution_count": null,
      "metadata": {
        "id": "LwrByt1RuSC5"
      },
      "outputs": [],
      "source": [
        "xgb.plot_importance(opt.named_steps['clf'], importance_type='gain', title='XGB selected predictors', show_values=False,  xlabel='Variable importance', height=0.5)\n",
        "plt.figure()\n",
        "plt.rcParams[\"figure.figsize\"] = (25,12)\n",
        "plt.show()"
      ]
    },
    {
      "cell_type": "code",
      "execution_count": null,
      "metadata": {
        "id": "pp-CdqIGe6DD"
      },
      "outputs": [],
      "source": [
        "### STOP"
      ]
    },
    {
      "cell_type": "code",
      "execution_count": null,
      "metadata": {
        "id": "HmiUtI8kulRn"
      },
      "outputs": [],
      "source": [
        "# xgb.plot_importance(opt.named_steps['clf'], importance_type='cover', title='Xgboost Built-in Feature Importance type cover')\n",
        "# plt.figure(figsize = (16, 12))\n",
        "# plt.show()"
      ]
    },
    {
      "cell_type": "code",
      "execution_count": null,
      "metadata": {
        "id": "hHwCK7BLsDQO"
      },
      "outputs": [],
      "source": [
        "# feature_important = opt.named_steps['clf'].get_booster().get_score(importance_type='gain')\n",
        "# keys = list(feature_important.keys())\n",
        "# values = list(feature_important.values())\n",
        "\n",
        "# xgb_fi = pd.DataFrame(data=values, index=keys, columns=[\"score\"]).sort_values(by = \"score\", ascending=False)"
      ]
    },
    {
      "cell_type": "code",
      "execution_count": null,
      "metadata": {
        "id": "BsfSWm4PsPBz"
      },
      "outputs": [],
      "source": [
        "# xgb_fi.to_csv('xgb_fi.csv', encoding='utf-8', index=True)"
      ]
    },
    {
      "cell_type": "markdown",
      "metadata": {
        "id": "MCwFsSPjvDB6"
      },
      "source": [
        "##### Permutation Based Feature Importance"
      ]
    },
    {
      "cell_type": "code",
      "execution_count": null,
      "metadata": {
        "id": "ptdWCX0asqeC"
      },
      "outputs": [],
      "source": [
        "# from sklearn.inspection import permutation_importance\n",
        "# perm_importance = permutation_importance(opt.named_steps['clf'], X_test, y_test)"
      ]
    },
    {
      "cell_type": "code",
      "execution_count": null,
      "metadata": {
        "id": "tZHr5mVBsx7r"
      },
      "outputs": [],
      "source": [
        "# sorted_idx = perm_importance.importances_mean.argsort()\n",
        "# plt.barh(X_test.columns[sorted_idx], perm_importance.importances_mean[sorted_idx])\n",
        "# plt.xlabel(\"Permutation Importance\")"
      ]
    },
    {
      "cell_type": "markdown",
      "metadata": {
        "id": "w1oJ6i15yXE9"
      },
      "source": [
        "##### SHAP analysis"
      ]
    },
    {
      "cell_type": "code",
      "execution_count": null,
      "metadata": {
        "id": "JXnyrIYCyXE9"
      },
      "outputs": [],
      "source": [
        "# # Ref: https://shap.readthedocs.io/en/latest/example_notebooks/tabular_examples/tree_based_models/Front%20page%20example%20(XGBoost).html\n",
        "\n",
        "# try:\n",
        "#    import shap\n",
        "# except ModuleNotFoundError:\n",
        "#    print(\"module 'shap' is not installed\")\n",
        "#    !pip install shap\n",
        "\n",
        "# import shap"
      ]
    },
    {
      "cell_type": "code",
      "execution_count": null,
      "metadata": {
        "id": "HfE3dNRoyXE9"
      },
      "outputs": [],
      "source": [
        "# # explain the model's predictions using SHAP values\n",
        "# # (same syntax works for LightGBM, CatBoost, and scikit-learn models)\n",
        "# background = shap.maskers.Independent(X_train)\n",
        "# def f(x):\n",
        "#     return shap.links.identity(opt.predict_proba(x)[:,1])\n",
        "# explainer = shap.Explainer(f, background, link=shap.links.logit)\n",
        "# shap_values = explainer(X_train[:100])\n",
        "\n",
        "# # visualize the first prediction's explanation\n",
        "# shap.plots.waterfall(shap_values[0])"
      ]
    },
    {
      "cell_type": "code",
      "execution_count": null,
      "metadata": {
        "id": "BUEY8eSqyXE9"
      },
      "outputs": [],
      "source": [
        "# # plot the global importance of each feature\n",
        "# shap.plots.bar(shap_values)"
      ]
    },
    {
      "cell_type": "markdown",
      "metadata": {
        "id": "A_uE-NJPLkjZ"
      },
      "source": [
        "#### Classification report"
      ]
    },
    {
      "cell_type": "code",
      "execution_count": null,
      "metadata": {
        "id": "GYHfrmy3LmRp"
      },
      "outputs": [],
      "source": [
        "from sklearn.metrics import classification_report\n",
        "\n",
        "target_names = ['survival', 'death']\n",
        "\n",
        "print(classification_report(y_test, pred_xgb, target_names=target_names))"
      ]
    },
    {
      "cell_type": "markdown",
      "metadata": {
        "id": "X_HbS0Cjv6O_"
      },
      "source": [
        "### XGB model with the highest 3 important features"
      ]
    },
    {
      "cell_type": "code",
      "execution_count": null,
      "metadata": {
        "id": "XEmckV4-rx-N"
      },
      "outputs": [],
      "source": [
        "opt.fit(X_train_best3feat, y_train_sm)"
      ]
    },
    {
      "cell_type": "code",
      "execution_count": null,
      "metadata": {
        "id": "CJpVrO3hw0bA"
      },
      "outputs": [],
      "source": [
        "opt.score(X_test_best3feat, y_test)"
      ]
    },
    {
      "cell_type": "code",
      "execution_count": null,
      "metadata": {
        "id": "H1EjOIBSw41m"
      },
      "outputs": [],
      "source": [
        "# predict probabilities to be used for roc curve\n",
        "pred_xgb_3_var = opt.predict(X_test_best3feat)\n",
        "pred_prob_xgb_3_var = opt.predict_proba(X_test_best3feat)"
      ]
    },
    {
      "cell_type": "markdown",
      "metadata": {
        "id": "mLTXRdDOJvDV"
      },
      "source": [
        "#### SHAP analysis"
      ]
    },
    {
      "cell_type": "code",
      "execution_count": null,
      "metadata": {
        "id": "eDCc8GoFv1iZ"
      },
      "outputs": [],
      "source": [
        "# # explain the model's predictions using SHAP values\n",
        "# # (same syntax works for LightGBM, CatBoost, and scikit-learn models)\n",
        "# background = shap.maskers.Independent(X_train_best3feat)\n",
        "# def f(x):\n",
        "#     return shap.links.identity(opt.predict_proba(x)[:,1])\n",
        "# explainer = shap.Explainer(f, background, link=shap.links.logit)\n",
        "# shap_values = explainer(X_train_best3feat[:100])\n",
        "\n",
        "# # visualize the first prediction's explanation\n",
        "# shap.plots.waterfall(shap_values[0])"
      ]
    },
    {
      "cell_type": "code",
      "execution_count": null,
      "metadata": {
        "id": "HgyQYR0-v96w"
      },
      "outputs": [],
      "source": [
        "# # plot the global importance of each feature\n",
        "# shap.plots.bar(shap_values)"
      ]
    },
    {
      "cell_type": "markdown",
      "metadata": {
        "id": "pTeeILtZi_ca"
      },
      "source": [
        "### XGB model with the highest 7 important features"
      ]
    },
    {
      "cell_type": "code",
      "execution_count": null,
      "metadata": {
        "id": "yxGfKyRHi_ci"
      },
      "outputs": [],
      "source": [
        "opt.fit(X_train_best7feat, y_train_sm)"
      ]
    },
    {
      "cell_type": "code",
      "execution_count": null,
      "metadata": {
        "id": "CW6vLDucxI4G"
      },
      "outputs": [],
      "source": [
        "opt.score(X_test_best7feat, y_test)"
      ]
    },
    {
      "cell_type": "code",
      "execution_count": null,
      "metadata": {
        "id": "j463PqgSi_ci"
      },
      "outputs": [],
      "source": [
        "# predict probabilities to be used for roc curve\n",
        "pred_xgb_7_var = opt.predict(X_test_best7feat)\n",
        "pred_prob_xgb_7_var = opt.predict_proba(X_test_best7feat)"
      ]
    },
    {
      "cell_type": "markdown",
      "metadata": {
        "id": "-1oN2-jbi_cj"
      },
      "source": [
        "#### SHAP analysis"
      ]
    },
    {
      "cell_type": "code",
      "execution_count": null,
      "metadata": {
        "id": "QheAXdfMi_cj"
      },
      "outputs": [],
      "source": [
        "# # explain the model's predictions using SHAP values\n",
        "# # (same syntax works for LightGBM, CatBoost, and scikit-learn models)\n",
        "# background = shap.maskers.Independent(X_train_best7feat)\n",
        "# def f(x):\n",
        "#     return shap.links.identity(opt.predict_proba(x)[:,1])\n",
        "# explainer = shap.Explainer(f, background, link=shap.links.logit)\n",
        "# shap_values = explainer(X_train_best7feat[:100])\n",
        "\n",
        "# # visualize the first prediction's explanation\n",
        "# shap.plots.waterfall(shap_values[0])"
      ]
    },
    {
      "cell_type": "code",
      "execution_count": null,
      "metadata": {
        "id": "f6had8Foi_cj"
      },
      "outputs": [],
      "source": [
        "# # plot the global importance of each feature\n",
        "# shap.plots.bar(shap_values)"
      ]
    },
    {
      "cell_type": "markdown",
      "metadata": {
        "id": "ISJhQ1duF0aR"
      },
      "source": [
        "### XGB model fitted with the same variables of Adhere's score"
      ]
    },
    {
      "cell_type": "code",
      "execution_count": null,
      "metadata": {
        "id": "_jtdIIM9a4mE"
      },
      "outputs": [],
      "source": [
        "X_train_adhere = X_train_imputed[['sbp_mean', 'bun_max', 'creatinine_max']]\n",
        "X_test_adhere = X_test_imputed[['sbp_mean', 'bun_max', 'creatinine_max']]"
      ]
    },
    {
      "cell_type": "code",
      "execution_count": null,
      "metadata": {
        "id": "rkAaDbpOGzAX"
      },
      "outputs": [],
      "source": [
        "opt.fit(X_train_adhere, y_train_sm)"
      ]
    },
    {
      "cell_type": "code",
      "execution_count": null,
      "metadata": {
        "id": "u2rgZu3mxbRS"
      },
      "outputs": [],
      "source": [
        "opt.score(X_test_adhere, y_test)"
      ]
    },
    {
      "cell_type": "code",
      "execution_count": null,
      "metadata": {
        "id": "dXQL_hlSG_sx"
      },
      "outputs": [],
      "source": [
        "# predict probabilities to be used for roc curve\n",
        "pred_xgb_adhere = opt.predict(X_test_adhere)\n",
        "pred_prob_xgb_adhere = opt.predict_proba(X_test_adhere)"
      ]
    },
    {
      "cell_type": "markdown",
      "metadata": {
        "id": "bWRGKQ9zGJhk"
      },
      "source": [
        "### XGB model fitted with the same variables of Gwtg's score"
      ]
    },
    {
      "cell_type": "code",
      "execution_count": null,
      "metadata": {
        "id": "syeO9_4LGLLI"
      },
      "outputs": [],
      "source": [
        "# TO DO: Models with different features\n",
        "X_train_gwtg = X_train_imputed[['sbp_mean', 'bun_max', 'sodium_max', 'admission_age', 'heart_rate_max', 'race_black', 'chronic_pulmonary_disease']]\n",
        "X_test_gwtg = X_test_imputed[['sbp_mean', 'bun_max', 'sodium_max', 'admission_age', 'heart_rate_max', 'race_black', 'chronic_pulmonary_disease']]"
      ]
    },
    {
      "cell_type": "code",
      "execution_count": null,
      "metadata": {
        "id": "ARDiLKezHDnR"
      },
      "outputs": [],
      "source": [
        "opt.fit(X_train_gwtg, y_train_sm)"
      ]
    },
    {
      "cell_type": "code",
      "execution_count": null,
      "metadata": {
        "id": "zCE3O7kqxk0Y"
      },
      "outputs": [],
      "source": [
        "opt.score(X_test_gwtg, y_test)"
      ]
    },
    {
      "cell_type": "code",
      "execution_count": null,
      "metadata": {
        "id": "h5XiaznQHHBx"
      },
      "outputs": [],
      "source": [
        "# predict probabilities to be used for roc curve\n",
        "pred_xgb_gwtg = opt.predict(X_test_gwtg)\n",
        "pred_prob_xgb_gwtg = opt.predict_proba(X_test_gwtg)"
      ]
    },
    {
      "cell_type": "markdown",
      "metadata": {
        "id": "r-OQzRJ0uahW"
      },
      "source": [
        "# Metrics evaluation"
      ]
    },
    {
      "cell_type": "code",
      "execution_count": null,
      "metadata": {
        "id": "XQSO8ZMyueis"
      },
      "outputs": [],
      "source": [
        "from sklearn.metrics import roc_curve\n",
        "\n",
        "# # roc curve for models\n",
        "# fpr1, tpr1, thresh1 = roc_curve(y_true, y_pred_adhere, pos_label=1)\n",
        "\n",
        "# fpr2, tpr2, thresh2 = roc_curve(y_true, y_pred_gwtg, pos_label=1)\n",
        "\n",
        "fpr3, tpr3, thresh3 = roc_curve(y_test, pred_prob_xgb_7_var[:,1], pos_label=1)\n",
        "\n",
        "fpr4, tpr4, thresh4 = roc_curve(y_test, pred_prob_xgb_3_var[:,1], pos_label=1)\n",
        "\n",
        "fpr5, tpr5, thresh5 = roc_curve(y_test, pred_prob_xgb[:,1], pos_label=1)\n",
        "\n",
        "fpr6, tpr6, thresh6 = roc_curve(y_test, pred_prob_xgb_adhere[:,1], pos_label=1)\n",
        "\n",
        "fpr7, tpr7, thresh7 = roc_curve(y_test, pred_prob_xgb_gwtg[:,1], pos_label=1)\n",
        "\n",
        "# roc curve for tpr = fpr\n",
        "random_probs = [0 for i in range(len(y_test))]\n",
        "p_fpr, p_tpr, _ = roc_curve(y_test, random_probs, pos_label=1)"
      ]
    },
    {
      "cell_type": "code",
      "execution_count": null,
      "metadata": {
        "id": "QDWve7XfvCZP"
      },
      "outputs": [],
      "source": [
        "from sklearn.metrics import roc_auc_score\n",
        "\n",
        "# auc scores\n",
        "# auc_score1 = roc_auc_score(y_true, y_pred_adhere)\n",
        "# auc_score2 = roc_auc_score(y_true, y_pred_gwtg)\n",
        "auc_score3 = roc_auc_score(y_test, pred_prob_xgb_7_var[:,1])\n",
        "auc_score4 = roc_auc_score(y_test, pred_prob_xgb_3_var[:,1])\n",
        "auc_score5 = roc_auc_score(y_test, pred_prob_xgb[:,1])\n",
        "auc_score6 = roc_auc_score(y_test, pred_prob_xgb_adhere[:,1])\n",
        "auc_score7 = roc_auc_score(y_test, pred_prob_xgb_gwtg[:,1])\n",
        "\n",
        "# print(auc_score1)\n",
        "# print(auc_score2)\n",
        "print(auc_score3)\n",
        "print(auc_score4)\n",
        "print(auc_score5)\n",
        "print(auc_score6)\n",
        "print(auc_score7)"
      ]
    },
    {
      "cell_type": "code",
      "execution_count": null,
      "metadata": {
        "id": "N3kUw6D7vH1W"
      },
      "outputs": [],
      "source": [
        "plt.style.use('seaborn')\n",
        "\n",
        "# plt.plot(fpr1, tpr1, linestyle='--',color='orange', label='Adhere model: AUC = %0.2f' % auc_score1)\n",
        "# plt.plot(fpr2, tpr2, linestyle='--',color='green', label='GWTG model: AUC = %0.2f' % auc_score2)\n",
        "plt.plot(fpr3, tpr3, linestyle='--',color='red', label='XGB model with best 7 variables: AUC = %0.2f' % auc_score3)\n",
        "plt.plot(fpr4, tpr4, linestyle='--',color='black', label='XGB model with best 3 variables: AUC = %0.2f' % auc_score4)\n",
        "plt.plot(fpr5, tpr5, linestyle='--',color='purple', label='XGB model with all variables: AUC = %0.2f' % auc_score5)\n",
        "plt.plot(fpr6, tpr6, linestyle='--',color='blue', label='XGB model with Adhere variables: AUC = %0.2f' % auc_score6)\n",
        "plt.plot(fpr7, tpr7, linestyle='--',color='pink', label='XGB model with Gwtg variables: AUC = %0.2f' % auc_score7)\n",
        "\n",
        "plt.plot(p_fpr, p_tpr, linestyle='--', color='gray', label='Random classifier')\n",
        "# title\n",
        "plt.title('ROC curve')\n",
        "# x label\n",
        "plt.xlabel('False Positive Rate')\n",
        "# y label\n",
        "plt.ylabel('True Positive Rate')\n",
        "\n",
        "plt.legend(loc='best')\n",
        "plt.savefig('ROC',dpi=300)\n",
        "plt.show();"
      ]
    },
    {
      "cell_type": "markdown",
      "metadata": {
        "id": "Ban_ixi7_6Il"
      },
      "source": [
        "## Results export"
      ]
    },
    {
      "cell_type": "code",
      "execution_count": null,
      "metadata": {
        "id": "kYUdJtNkD-Wp"
      },
      "outputs": [],
      "source": [
        "pd.DataFrame(data={'adhere_score' : X_test_adhere_scores, 'gwtg_score' : X_test_gwtg_scores, 'y_allvar': pred_xgb, 'y_allvar_prob': pred_prob_xgb[:,1], 'y_b7': pred_xgb_7_var, 'y_b7_prob': pred_prob_xgb_7_var[:,1], 'y_b3': pred_xgb_3_var, 'y_b3_prob': pred_prob_xgb_3_var[:,1], 'y_gwtg': pred_xgb_gwtg, 'y_gwtg_prob': pred_prob_xgb_gwtg[:,1], 'y_adhere': pred_xgb_adhere, 'y_adhere_prob': pred_prob_xgb_adhere[:,1], 'hospital_death': y_test}).to_csv('roc_data.csv', index=False, decimal=',')"
      ]
    },
    {
      "cell_type": "code",
      "execution_count": null,
      "metadata": {
        "id": "8akh2U3z3T2R"
      },
      "outputs": [],
      "source": [
        "files.download('roc_data.csv')"
      ]
    },
    {
      "cell_type": "code",
      "execution_count": null,
      "metadata": {
        "id": "612NJdEq_5no"
      },
      "outputs": [],
      "source": [
        "# pd.DataFrame(data={'predictions': pred_xgb_7_var, 'actual': y_test}).to_excel('prediction_xgb_best_7_variables.xlsx', index=False)\n",
        "# pd.DataFrame(data={'predictions': pred_xgb_3_var, 'actual': y_test}).to_excel('prediction_xgb_best_3_variables.xlsx', index=False)\n",
        "# pd.DataFrame(data={'predictions': pred_xgb, 'actual': y_test}).to_excel('prediction_xgb_all_variables.xlsx', index=False)\n",
        "# pd.DataFrame(data={'predictions': pred_xgb_adhere, 'actual': y_test}).to_excel('prediction_xgb_adhere_variables.xlsx', index=False)\n",
        "# pd.DataFrame(data={'predictions': pred_xgb_gwtg, 'actual': y_test}).to_excel('prediction_xgb_gwtg_variables.xlsx', index=False)"
      ]
    },
    {
      "cell_type": "code",
      "execution_count": null,
      "metadata": {
        "id": "V2zK7IV1T88a"
      },
      "outputs": [],
      "source": [
        "# pd.DataFrame(data={'y_predict': pred_xgb_7_var, 'y_predict_proba': pred_prob_xgb_7_var[:,1], 'y_true': y_test}).to_csv('prediction_xgb_best_7_variables.csv', index=False)\n",
        "# pd.DataFrame(data={'y_predict': pred_xgb_3_var, 'y_predict_proba': pred_prob_xgb_3_var[:,1], 'y_true': y_test}).to_csv('prediction_xgb_best_3_variables.csv', index=False)\n",
        "# pd.DataFrame(data={'y_predict': pred_xgb, 'y_predict_proba': pred_prob_xgb[:,1], 'y_true': y_test}).to_csv('prediction_xgb_all_variables.csv', index=False)\n",
        "# pd.DataFrame(data={'y_predict': pred_xgb_adhere, 'y_predict_proba': pred_prob_xgb_adhere[:,1], 'y_true': y_test}).to_csv('prediction_xgb_adhere_variables.csv', index=False)\n",
        "# pd.DataFrame(data={'y_predict': pred_xgb_gwtg, 'y_predict_proba': pred_prob_xgb_gwtg[:,1], 'y_true': y_test}).to_csv('prediction_xgb_gwtg_variables.csv', index=False)"
      ]
    },
    {
      "cell_type": "code",
      "execution_count": null,
      "metadata": {
        "id": "4dp26n42BDCA"
      },
      "outputs": [],
      "source": [
        "# files.download('prediction_xgb_best_7_variables.csv')\n",
        "# files.download('prediction_xgb_best_3_variables.csv')\n",
        "# files.download('prediction_xgb_all_variables.csv')\n",
        "# files.download('prediction_xgb_adhere_variables.csv')\n",
        "# files.download('prediction_xgb_gwtg_variables.csv')"
      ]
    },
    {
      "cell_type": "markdown",
      "metadata": {
        "id": "cehhUfpXQorv"
      },
      "source": [
        "# Model comparison sandbox"
      ]
    },
    {
      "cell_type": "code",
      "execution_count": null,
      "metadata": {
        "id": "UeJFN9JmSRvv"
      },
      "outputs": [],
      "source": [
        "# # Import the classifiers\n",
        "# from sklearn.linear_model import LogisticRegression\n",
        "# from sklearn.naive_bayes import GaussianNB\n",
        "# from sklearn.neighbors import KNeighborsClassifier\n",
        "# from sklearn.tree import DecisionTreeClassifier\n",
        "# from sklearn.ensemble import RandomForestClassifier\n",
        "# from sklearn.neural_network import MLPClassifier\n",
        "# from sklearn.svm import SVC\n",
        "\n",
        "# from sklearn.metrics import roc_curve, roc_auc_score\n",
        "\n",
        "# # Instantiate the classfiers and make a list\n",
        "# classifiers = [\n",
        "#                LogisticRegression(fit_intercept=True),\n",
        "#                SVC(kernel = 'rbf',gamma='scale', probability=True),\n",
        "#                DecisionTreeClassifier(criterion = \"entropy\"),\n",
        "#                RandomForestClassifier(n_estimators=100, criterion=\"entropy\"),\n",
        "#                GaussianNB(),\n",
        "#                MLPClassifier(solver='lbfgs', alpha=1e-5, hidden_layer_sizes=(5, 2), random_state=1),\n",
        "#                KNeighborsClassifier(n_neighbors=5, metric=\"minkowski\",p=2),\n",
        "#                xgb.XGBClassifier(learning_rate=0.1, max_depth=9 , n_estimators=180)]\n",
        "\n",
        "# # Define a result table as a DataFrame\n",
        "# result_table = pd.DataFrame(columns=['classifiers', 'fpr','tpr','auc'])\n",
        "\n",
        "# # Train the models and record the results\n",
        "# for cls in classifiers:\n",
        "#     model = cls.fit(X_train_scaled, y_train_sm)\n",
        "#     yproba = model.predict_proba(X_test_scaled)\n",
        "#    # yproba = model.predict_proba(X_test)\n",
        "\n",
        "#     fpr, tpr, _ = roc_curve(y_test_sm, yproba[:,1])\n",
        "#     auc = roc_auc_score(y_test_sm, yproba[:,1])\n",
        "\n",
        "#     # fpr, tpr, _ = roc_curve(y_test, yproba[:,1])\n",
        "#     # auc = roc_auc_score(y_test, yproba[:,1])\n",
        "\n",
        "#     result_table = result_table.append({'classifiers':cls.__class__.__name__,\n",
        "#                                         'fpr':fpr,\n",
        "#                                         'tpr':tpr,\n",
        "#                                         'auc':auc}, ignore_index=True)\n",
        "\n",
        "# # Set name of the classifiers as index labels\n",
        "# result_table.set_index('classifiers', inplace=True)"
      ]
    },
    {
      "cell_type": "code",
      "execution_count": null,
      "metadata": {
        "id": "0P6BH2JcRBUy"
      },
      "outputs": [],
      "source": [
        "# fig = plt.figure(figsize=(8,6))\n",
        "\n",
        "# for i in result_table.index:\n",
        "#     plt.plot(result_table.loc[i]['fpr'],\n",
        "#              result_table.loc[i]['tpr'],\n",
        "#              label=\"{}, AUC={:.3f}\".format(i, result_table.loc[i]['auc']))\n",
        "\n",
        "# plt.plot([0,1], [0,1], color='orange', linestyle='--')\n",
        "\n",
        "# plt.xticks(np.arange(0.0, 1.1, step=0.1))\n",
        "# plt.xlabel(\"Flase Positive Rate\", fontsize=15)\n",
        "\n",
        "# plt.yticks(np.arange(0.0, 1.1, step=0.1))\n",
        "# plt.ylabel(\"True Positive Rate\", fontsize=15)\n",
        "\n",
        "# plt.title('ROC Curve Analysis', fontweight='bold', fontsize=15)\n",
        "# plt.legend(prop={'size':13}, loc='lower right')\n",
        "\n",
        "# plt.show()"
      ]
    }
  ],
  "metadata": {
    "colab": {
      "collapsed_sections": [
        "sDTRQGEeMI8Z",
        "ZAZKE0SN7ac6",
        "2HcDufeMSOYj",
        "tTgG8eVEBV5A",
        "VsBADmd2At9F",
        "w1oJ6i15yXE9",
        "bWRGKQ9zGJhk"
      ],
      "provenance": []
    },
    "kernelspec": {
      "display_name": "Python 3",
      "name": "python3"
    },
    "language_info": {
      "name": "python"
    }
  },
  "nbformat": 4,
  "nbformat_minor": 0
}